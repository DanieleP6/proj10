{
 "cells": [
  {
   "cell_type": "code",
   "execution_count": 1,
   "id": "51a201c8",
   "metadata": {},
   "outputs": [],
   "source": [
    "#importazione delle librerie\n",
    "import pandas as pd\n",
    "import os"
   ]
  },
  {
   "cell_type": "code",
   "execution_count": 2,
   "id": "c161c1a1",
   "metadata": {},
   "outputs": [
    {
     "name": "stdout",
     "output_type": "stream",
     "text": [
      "c:\\Users\\daniele\\Desktop\\esame_panzica\\dataset\\veneto-case-non-occupate.csv\n"
     ]
    }
   ],
   "source": [
    "#salvataggio dei path\n",
    "cur_dir = os.getcwd()\n",
    "data_dir = os.path.join(cur_dir, 'dataset')\n",
    "file_path = os.path.join(data_dir, 'veneto-case-non-occupate.csv') # concatenazione dei path con le variabili cur_dir e data_dir\n",
    "\n",
    "print(file_path)"
   ]
  },
  {
   "cell_type": "code",
   "execution_count": 3,
   "id": "262faf6e",
   "metadata": {},
   "outputs": [
    {
     "data": {
      "application/vnd.microsoft.datawrangler.viewer.v0+json": {
       "columns": [
        {
         "name": "index",
         "rawType": "int64",
         "type": "integer"
        },
        {
         "name": "Anno",
         "rawType": "int64",
         "type": "integer"
        },
        {
         "name": "Comune",
         "rawType": "object",
         "type": "string"
        },
        {
         "name": "Provincia",
         "rawType": "object",
         "type": "string"
        },
        {
         "name": "Numero alloggi",
         "rawType": "int64",
         "type": "integer"
        }
       ],
       "ref": "84bd4328-e5b7-41cf-8396-ccd615afb876",
       "rows": [
        [
         "0",
         "1971",
         "AFFI",
         "VERONA",
         "39"
        ],
        [
         "1",
         "1971",
         "ALBAREDO D'ADIGE",
         "VERONA",
         "221"
        ],
        [
         "2",
         "1971",
         "ANGIARI",
         "VERONA",
         "67"
        ],
        [
         "3",
         "1971",
         "ARCOLE",
         "VERONA",
         "53"
        ],
        [
         "4",
         "1971",
         "BADIA CALAVENA",
         "VERONA",
         "358"
        ],
        [
         "5",
         "1971",
         "BARDOLINO",
         "VERONA",
         "1138"
        ],
        [
         "6",
         "1971",
         "BELFIORE",
         "VERONA",
         "30"
        ],
        [
         "7",
         "1971",
         "BEVILACQUA",
         "VERONA",
         "31"
        ],
        [
         "8",
         "1971",
         "BONAVIGO",
         "VERONA",
         "26"
        ],
        [
         "9",
         "1971",
         "BOSCHI SANT'ANNA",
         "VERONA",
         "24"
        ],
        [
         "10",
         "1971",
         "BOSCO CHIESANUOVA",
         "VERONA",
         "1079"
        ],
        [
         "11",
         "1971",
         "BOVOLONE",
         "VERONA",
         "83"
        ],
        [
         "12",
         "1971",
         "BRENTINO BELLUNO",
         "VERONA",
         "39"
        ],
        [
         "13",
         "1971",
         "BRENZONE",
         "VERONA",
         "419"
        ],
        [
         "14",
         "1971",
         "BUSSOLENGO",
         "VERONA",
         "142"
        ],
        [
         "15",
         "1971",
         "BUTTAPIETRA",
         "VERONA",
         "35"
        ],
        [
         "16",
         "1971",
         "CALDIERO",
         "VERONA",
         "99"
        ],
        [
         "17",
         "1971",
         "CAPRINO VERONESE",
         "VERONA",
         "332"
        ],
        [
         "18",
         "1971",
         "CASALEONE",
         "VERONA",
         "122"
        ],
        [
         "19",
         "1971",
         "CASTAGNARO",
         "VERONA",
         "147"
        ],
        [
         "20",
         "1971",
         "CASTEL D'AZZANO",
         "VERONA",
         "77"
        ],
        [
         "21",
         "1971",
         "CASTELNUOVO DEL GARDA",
         "VERONA",
         "245"
        ],
        [
         "22",
         "1971",
         "CAVAION VERONESE",
         "VERONA",
         "101"
        ],
        [
         "23",
         "1971",
         "CAZZANO DI TRAMIGNA",
         "VERONA",
         "20"
        ],
        [
         "24",
         "1971",
         "CEREA",
         "VERONA",
         "185"
        ],
        [
         "25",
         "1971",
         "CERRO VERONESE",
         "VERONA",
         "229"
        ],
        [
         "26",
         "1971",
         "COLOGNA VENETA",
         "VERONA",
         "313"
        ],
        [
         "27",
         "1971",
         "COLOGNOLA AI COLLI",
         "VERONA",
         "117"
        ],
        [
         "28",
         "1971",
         "CONCAMARISE",
         "VERONA",
         "53"
        ],
        [
         "29",
         "1971",
         "COSTERMANO SUL GARDA",
         "VERONA",
         "237"
        ],
        [
         "30",
         "1971",
         "DOLCE'",
         "VERONA",
         "97"
        ],
        [
         "31",
         "1971",
         "ERBE'",
         "VERONA",
         "30"
        ],
        [
         "32",
         "1971",
         "ERBEZZO",
         "VERONA",
         "43"
        ],
        [
         "33",
         "1971",
         "FERRARA DI MONTE BALDO",
         "VERONA",
         "191"
        ],
        [
         "34",
         "1971",
         "FUMANE",
         "VERONA",
         "160"
        ],
        [
         "35",
         "1971",
         "GARDA",
         "VERONA",
         "430"
        ],
        [
         "36",
         "1971",
         "GAZZO VERONESE",
         "VERONA",
         "230"
        ],
        [
         "37",
         "1971",
         "GREZZANA",
         "VERONA",
         "312"
        ],
        [
         "38",
         "1971",
         "ILLASI",
         "VERONA",
         "95"
        ],
        [
         "39",
         "1971",
         "ISOLA DELLA SCALA",
         "VERONA",
         "188"
        ],
        [
         "40",
         "1971",
         "ISOLA RIZZA",
         "VERONA",
         "61"
        ],
        [
         "41",
         "1971",
         "LAVAGNO",
         "VERONA",
         "118"
        ],
        [
         "42",
         "1971",
         "LAZISE",
         "VERONA",
         "416"
        ],
        [
         "43",
         "1971",
         "LEGNAGO",
         "VERONA",
         "376"
        ],
        [
         "44",
         "1971",
         "MALCESINE",
         "VERONA",
         "569"
        ],
        [
         "45",
         "1971",
         "MARANO DI VALPOLICELLA",
         "VERONA",
         "38"
        ],
        [
         "46",
         "1971",
         "MEZZANE DI SOTTO",
         "VERONA",
         "90"
        ],
        [
         "47",
         "1971",
         "MINERBE",
         "VERONA",
         "119"
        ],
        [
         "48",
         "1971",
         "MONTECCHIA DI CROSARA",
         "VERONA",
         "13"
        ],
        [
         "49",
         "1971",
         "MONTEFORTE D'ALPONE",
         "VERONA",
         "87"
        ]
       ],
       "shape": {
        "columns": 4,
        "rows": 2330
       }
      },
      "text/html": [
       "<div>\n",
       "<style scoped>\n",
       "    .dataframe tbody tr th:only-of-type {\n",
       "        vertical-align: middle;\n",
       "    }\n",
       "\n",
       "    .dataframe tbody tr th {\n",
       "        vertical-align: top;\n",
       "    }\n",
       "\n",
       "    .dataframe thead th {\n",
       "        text-align: right;\n",
       "    }\n",
       "</style>\n",
       "<table border=\"1\" class=\"dataframe\">\n",
       "  <thead>\n",
       "    <tr style=\"text-align: right;\">\n",
       "      <th></th>\n",
       "      <th>Anno</th>\n",
       "      <th>Comune</th>\n",
       "      <th>Provincia</th>\n",
       "      <th>Numero alloggi</th>\n",
       "    </tr>\n",
       "  </thead>\n",
       "  <tbody>\n",
       "    <tr>\n",
       "      <th>0</th>\n",
       "      <td>1971</td>\n",
       "      <td>AFFI</td>\n",
       "      <td>VERONA</td>\n",
       "      <td>39</td>\n",
       "    </tr>\n",
       "    <tr>\n",
       "      <th>1</th>\n",
       "      <td>1971</td>\n",
       "      <td>ALBAREDO D'ADIGE</td>\n",
       "      <td>VERONA</td>\n",
       "      <td>221</td>\n",
       "    </tr>\n",
       "    <tr>\n",
       "      <th>2</th>\n",
       "      <td>1971</td>\n",
       "      <td>ANGIARI</td>\n",
       "      <td>VERONA</td>\n",
       "      <td>67</td>\n",
       "    </tr>\n",
       "    <tr>\n",
       "      <th>3</th>\n",
       "      <td>1971</td>\n",
       "      <td>ARCOLE</td>\n",
       "      <td>VERONA</td>\n",
       "      <td>53</td>\n",
       "    </tr>\n",
       "    <tr>\n",
       "      <th>4</th>\n",
       "      <td>1971</td>\n",
       "      <td>BADIA CALAVENA</td>\n",
       "      <td>VERONA</td>\n",
       "      <td>358</td>\n",
       "    </tr>\n",
       "    <tr>\n",
       "      <th>...</th>\n",
       "      <td>...</td>\n",
       "      <td>...</td>\n",
       "      <td>...</td>\n",
       "      <td>...</td>\n",
       "    </tr>\n",
       "    <tr>\n",
       "      <th>2325</th>\n",
       "      <td>2001</td>\n",
       "      <td>VILLADOSE</td>\n",
       "      <td>ROVIGO</td>\n",
       "      <td>246</td>\n",
       "    </tr>\n",
       "    <tr>\n",
       "      <th>2326</th>\n",
       "      <td>2001</td>\n",
       "      <td>VILLAMARZANA</td>\n",
       "      <td>ROVIGO</td>\n",
       "      <td>59</td>\n",
       "    </tr>\n",
       "    <tr>\n",
       "      <th>2327</th>\n",
       "      <td>2001</td>\n",
       "      <td>VILLANOVA DEL GHEBBO</td>\n",
       "      <td>ROVIGO</td>\n",
       "      <td>85</td>\n",
       "    </tr>\n",
       "    <tr>\n",
       "      <th>2328</th>\n",
       "      <td>2001</td>\n",
       "      <td>VILLANOVA MARCHESANA</td>\n",
       "      <td>ROVIGO</td>\n",
       "      <td>133</td>\n",
       "    </tr>\n",
       "    <tr>\n",
       "      <th>2329</th>\n",
       "      <td>2001</td>\n",
       "      <td>PORTO VIRO</td>\n",
       "      <td>ROVIGO</td>\n",
       "      <td>748</td>\n",
       "    </tr>\n",
       "  </tbody>\n",
       "</table>\n",
       "<p>2330 rows × 4 columns</p>\n",
       "</div>"
      ],
      "text/plain": [
       "      Anno                Comune Provincia  Numero alloggi\n",
       "0     1971                  AFFI    VERONA              39\n",
       "1     1971      ALBAREDO D'ADIGE    VERONA             221\n",
       "2     1971               ANGIARI    VERONA              67\n",
       "3     1971                ARCOLE    VERONA              53\n",
       "4     1971        BADIA CALAVENA    VERONA             358\n",
       "...    ...                   ...       ...             ...\n",
       "2325  2001             VILLADOSE    ROVIGO             246\n",
       "2326  2001          VILLAMARZANA    ROVIGO              59\n",
       "2327  2001  VILLANOVA DEL GHEBBO    ROVIGO              85\n",
       "2328  2001  VILLANOVA MARCHESANA    ROVIGO             133\n",
       "2329  2001            PORTO VIRO    ROVIGO             748\n",
       "\n",
       "[2330 rows x 4 columns]"
      ]
     },
     "execution_count": 3,
     "metadata": {},
     "output_type": "execute_result"
    }
   ],
   "source": [
    "# salvataggio del dataframe\n",
    "df = pd.read_csv(file_path, sep=';', encoding='utf-8')\n",
    "df #printa il df"
   ]
  },
  {
   "cell_type": "code",
   "execution_count": 4,
   "id": "8519c2b9",
   "metadata": {},
   "outputs": [
    {
     "data": {
      "application/vnd.microsoft.datawrangler.viewer.v0+json": {
       "columns": [
        {
         "name": "index",
         "rawType": "object",
         "type": "string"
        },
        {
         "name": "0",
         "rawType": "int64",
         "type": "integer"
        }
       ],
       "ref": "515a7339-2f91-41fa-9d2a-1d254e949504",
       "rows": [
        [
         "Anno",
         "0"
        ],
        [
         "Comune",
         "0"
        ],
        [
         "Provincia",
         "0"
        ],
        [
         "Numero alloggi",
         "0"
        ]
       ],
       "shape": {
        "columns": 1,
        "rows": 4
       }
      },
      "text/plain": [
       "Anno              0\n",
       "Comune            0\n",
       "Provincia         0\n",
       "Numero alloggi    0\n",
       "dtype: int64"
      ]
     },
     "execution_count": 4,
     "metadata": {},
     "output_type": "execute_result"
    }
   ],
   "source": [
    "#controllo valori nulli\n",
    "na = df.isnull()\n",
    "\n",
    "#somma valori nulli nel df\n",
    "na_sum = na.sum()\n",
    "na_sum"
   ]
  },
  {
   "cell_type": "code",
   "execution_count": 5,
   "id": "552b06e9",
   "metadata": {},
   "outputs": [
    {
     "name": "stdout",
     "output_type": "stream",
     "text": [
      "<class 'pandas.core.frame.DataFrame'>\n",
      "RangeIndex: 2330 entries, 0 to 2329\n",
      "Data columns (total 4 columns):\n",
      " #   Column          Non-Null Count  Dtype \n",
      "---  ------          --------------  ----- \n",
      " 0   Anno            2330 non-null   int64 \n",
      " 1   Comune          2330 non-null   object\n",
      " 2   Provincia       2330 non-null   object\n",
      " 3   Numero alloggi  2330 non-null   int64 \n",
      "dtypes: int64(2), object(2)\n",
      "memory usage: 72.9+ KB\n"
     ]
    }
   ],
   "source": [
    "df.info() # informazioni sul df"
   ]
  },
  {
   "cell_type": "code",
   "execution_count": 6,
   "id": "86eab569",
   "metadata": {},
   "outputs": [
    {
     "data": {
      "application/vnd.microsoft.datawrangler.viewer.v0+json": {
       "columns": [
        {
         "name": "index",
         "rawType": "object",
         "type": "string"
        },
        {
         "name": "Anno",
         "rawType": "float64",
         "type": "float"
        },
        {
         "name": "Numero alloggi",
         "rawType": "float64",
         "type": "float"
        }
       ],
       "ref": "2ae772c8-675b-4832-8cbb-790f74fcd80e",
       "rows": [
        [
         "count",
         "2330.0",
         "2330.0"
        ],
        [
         "mean",
         "1985.9871244635194",
         "438.9961373390558"
        ],
        [
         "std",
         "11.178892229880967",
         "1295.2420415945317"
        ],
        [
         "min",
         "1971.0",
         "1.0"
        ],
        [
         "25%",
         "1973.5",
         "88.0"
        ],
        [
         "50%",
         "1981.0",
         "165.0"
        ],
        [
         "75%",
         "1991.0",
         "337.0"
        ],
        [
         "max",
         "2001.0",
         "21127.0"
        ]
       ],
       "shape": {
        "columns": 2,
        "rows": 8
       }
      },
      "text/html": [
       "<div>\n",
       "<style scoped>\n",
       "    .dataframe tbody tr th:only-of-type {\n",
       "        vertical-align: middle;\n",
       "    }\n",
       "\n",
       "    .dataframe tbody tr th {\n",
       "        vertical-align: top;\n",
       "    }\n",
       "\n",
       "    .dataframe thead th {\n",
       "        text-align: right;\n",
       "    }\n",
       "</style>\n",
       "<table border=\"1\" class=\"dataframe\">\n",
       "  <thead>\n",
       "    <tr style=\"text-align: right;\">\n",
       "      <th></th>\n",
       "      <th>Anno</th>\n",
       "      <th>Numero alloggi</th>\n",
       "    </tr>\n",
       "  </thead>\n",
       "  <tbody>\n",
       "    <tr>\n",
       "      <th>count</th>\n",
       "      <td>2330.000000</td>\n",
       "      <td>2330.000000</td>\n",
       "    </tr>\n",
       "    <tr>\n",
       "      <th>mean</th>\n",
       "      <td>1985.987124</td>\n",
       "      <td>438.996137</td>\n",
       "    </tr>\n",
       "    <tr>\n",
       "      <th>std</th>\n",
       "      <td>11.178892</td>\n",
       "      <td>1295.242042</td>\n",
       "    </tr>\n",
       "    <tr>\n",
       "      <th>min</th>\n",
       "      <td>1971.000000</td>\n",
       "      <td>1.000000</td>\n",
       "    </tr>\n",
       "    <tr>\n",
       "      <th>25%</th>\n",
       "      <td>1973.500000</td>\n",
       "      <td>88.000000</td>\n",
       "    </tr>\n",
       "    <tr>\n",
       "      <th>50%</th>\n",
       "      <td>1981.000000</td>\n",
       "      <td>165.000000</td>\n",
       "    </tr>\n",
       "    <tr>\n",
       "      <th>75%</th>\n",
       "      <td>1991.000000</td>\n",
       "      <td>337.000000</td>\n",
       "    </tr>\n",
       "    <tr>\n",
       "      <th>max</th>\n",
       "      <td>2001.000000</td>\n",
       "      <td>21127.000000</td>\n",
       "    </tr>\n",
       "  </tbody>\n",
       "</table>\n",
       "</div>"
      ],
      "text/plain": [
       "              Anno  Numero alloggi\n",
       "count  2330.000000     2330.000000\n",
       "mean   1985.987124      438.996137\n",
       "std      11.178892     1295.242042\n",
       "min    1971.000000        1.000000\n",
       "25%    1973.500000       88.000000\n",
       "50%    1981.000000      165.000000\n",
       "75%    1991.000000      337.000000\n",
       "max    2001.000000    21127.000000"
      ]
     },
     "execution_count": 6,
     "metadata": {},
     "output_type": "execute_result"
    }
   ],
   "source": [
    "df.describe() # statistiche descrittive del df"
   ]
  },
  {
   "cell_type": "code",
   "execution_count": 7,
   "id": "4cf54bb8",
   "metadata": {},
   "outputs": [
    {
     "data": {
      "application/vnd.microsoft.datawrangler.viewer.v0+json": {
       "columns": [
        {
         "name": "index",
         "rawType": "int64",
         "type": "integer"
        },
        {
         "name": "Anno",
         "rawType": "int64",
         "type": "integer"
        },
        {
         "name": "Comune",
         "rawType": "object",
         "type": "string"
        },
        {
         "name": "Provincia",
         "rawType": "object",
         "type": "string"
        },
        {
         "name": "Numero alloggi",
         "rawType": "float64",
         "type": "float"
        }
       ],
       "ref": "eaeb755e-9aa2-4f93-923e-5f2d6dd32b2a",
       "rows": [
        [
         "0",
         "1971",
         "AFFI",
         "VERONA",
         null
        ],
        [
         "1",
         "1971",
         "ALBAREDO D'ADIGE",
         "VERONA",
         null
        ],
        [
         "2",
         "1971",
         "ANGIARI",
         "VERONA",
         null
        ],
        [
         "3",
         "1971",
         "ARCOLE",
         "VERONA",
         null
        ],
        [
         "4",
         "1971",
         "BADIA CALAVENA",
         "VERONA",
         null
        ],
        [
         "5",
         "1971",
         "BARDOLINO",
         "VERONA",
         null
        ],
        [
         "6",
         "1971",
         "BELFIORE",
         "VERONA",
         null
        ],
        [
         "7",
         "1971",
         "BEVILACQUA",
         "VERONA",
         null
        ],
        [
         "8",
         "1971",
         "BONAVIGO",
         "VERONA",
         null
        ],
        [
         "9",
         "1971",
         "BOSCHI SANT'ANNA",
         "VERONA",
         null
        ],
        [
         "10",
         "1971",
         "BOSCO CHIESANUOVA",
         "VERONA",
         null
        ],
        [
         "11",
         "1971",
         "BOVOLONE",
         "VERONA",
         null
        ],
        [
         "12",
         "1971",
         "BRENTINO BELLUNO",
         "VERONA",
         null
        ],
        [
         "13",
         "1971",
         "BRENZONE",
         "VERONA",
         null
        ],
        [
         "14",
         "1971",
         "BUSSOLENGO",
         "VERONA",
         null
        ],
        [
         "15",
         "1971",
         "BUTTAPIETRA",
         "VERONA",
         null
        ],
        [
         "16",
         "1971",
         "CALDIERO",
         "VERONA",
         null
        ],
        [
         "17",
         "1971",
         "CAPRINO VERONESE",
         "VERONA",
         null
        ],
        [
         "18",
         "1971",
         "CASALEONE",
         "VERONA",
         null
        ],
        [
         "19",
         "1971",
         "CASTAGNARO",
         "VERONA",
         null
        ],
        [
         "20",
         "1971",
         "CASTEL D'AZZANO",
         "VERONA",
         null
        ],
        [
         "21",
         "1971",
         "CASTELNUOVO DEL GARDA",
         "VERONA",
         null
        ],
        [
         "22",
         "1971",
         "CAVAION VERONESE",
         "VERONA",
         null
        ],
        [
         "23",
         "1971",
         "CAZZANO DI TRAMIGNA",
         "VERONA",
         null
        ],
        [
         "24",
         "1971",
         "CEREA",
         "VERONA",
         null
        ],
        [
         "25",
         "1971",
         "CERRO VERONESE",
         "VERONA",
         null
        ],
        [
         "26",
         "1971",
         "COLOGNA VENETA",
         "VERONA",
         null
        ],
        [
         "27",
         "1971",
         "COLOGNOLA AI COLLI",
         "VERONA",
         null
        ],
        [
         "28",
         "1971",
         "CONCAMARISE",
         "VERONA",
         null
        ],
        [
         "29",
         "1971",
         "COSTERMANO SUL GARDA",
         "VERONA",
         null
        ],
        [
         "30",
         "1971",
         "DOLCE'",
         "VERONA",
         null
        ],
        [
         "31",
         "1971",
         "ERBE'",
         "VERONA",
         null
        ],
        [
         "32",
         "1971",
         "ERBEZZO",
         "VERONA",
         null
        ],
        [
         "33",
         "1971",
         "FERRARA DI MONTE BALDO",
         "VERONA",
         null
        ],
        [
         "34",
         "1971",
         "FUMANE",
         "VERONA",
         null
        ],
        [
         "35",
         "1971",
         "GARDA",
         "VERONA",
         null
        ],
        [
         "36",
         "1971",
         "GAZZO VERONESE",
         "VERONA",
         null
        ],
        [
         "37",
         "1971",
         "GREZZANA",
         "VERONA",
         null
        ],
        [
         "38",
         "1971",
         "ILLASI",
         "VERONA",
         null
        ],
        [
         "39",
         "1971",
         "ISOLA DELLA SCALA",
         "VERONA",
         null
        ],
        [
         "40",
         "1971",
         "ISOLA RIZZA",
         "VERONA",
         null
        ],
        [
         "41",
         "1971",
         "LAVAGNO",
         "VERONA",
         null
        ],
        [
         "42",
         "1971",
         "LAZISE",
         "VERONA",
         null
        ],
        [
         "43",
         "1971",
         "LEGNAGO",
         "VERONA",
         null
        ],
        [
         "44",
         "1971",
         "MALCESINE",
         "VERONA",
         null
        ],
        [
         "45",
         "1971",
         "MARANO DI VALPOLICELLA",
         "VERONA",
         null
        ],
        [
         "46",
         "1971",
         "MEZZANE DI SOTTO",
         "VERONA",
         null
        ],
        [
         "47",
         "1971",
         "MINERBE",
         "VERONA",
         null
        ],
        [
         "48",
         "1971",
         "MONTECCHIA DI CROSARA",
         "VERONA",
         null
        ],
        [
         "49",
         "1971",
         "MONTEFORTE D'ALPONE",
         "VERONA",
         null
        ]
       ],
       "shape": {
        "columns": 4,
        "rows": 2330
       }
      },
      "text/html": [
       "<div>\n",
       "<style scoped>\n",
       "    .dataframe tbody tr th:only-of-type {\n",
       "        vertical-align: middle;\n",
       "    }\n",
       "\n",
       "    .dataframe tbody tr th {\n",
       "        vertical-align: top;\n",
       "    }\n",
       "\n",
       "    .dataframe thead th {\n",
       "        text-align: right;\n",
       "    }\n",
       "</style>\n",
       "<table border=\"1\" class=\"dataframe\">\n",
       "  <thead>\n",
       "    <tr style=\"text-align: right;\">\n",
       "      <th></th>\n",
       "      <th>Anno</th>\n",
       "      <th>Comune</th>\n",
       "      <th>Provincia</th>\n",
       "      <th>Numero alloggi</th>\n",
       "    </tr>\n",
       "  </thead>\n",
       "  <tbody>\n",
       "    <tr>\n",
       "      <th>0</th>\n",
       "      <td>1971</td>\n",
       "      <td>AFFI</td>\n",
       "      <td>VERONA</td>\n",
       "      <td>NaN</td>\n",
       "    </tr>\n",
       "    <tr>\n",
       "      <th>1</th>\n",
       "      <td>1971</td>\n",
       "      <td>ALBAREDO D'ADIGE</td>\n",
       "      <td>VERONA</td>\n",
       "      <td>NaN</td>\n",
       "    </tr>\n",
       "    <tr>\n",
       "      <th>2</th>\n",
       "      <td>1971</td>\n",
       "      <td>ANGIARI</td>\n",
       "      <td>VERONA</td>\n",
       "      <td>NaN</td>\n",
       "    </tr>\n",
       "    <tr>\n",
       "      <th>3</th>\n",
       "      <td>1971</td>\n",
       "      <td>ARCOLE</td>\n",
       "      <td>VERONA</td>\n",
       "      <td>NaN</td>\n",
       "    </tr>\n",
       "    <tr>\n",
       "      <th>4</th>\n",
       "      <td>1971</td>\n",
       "      <td>BADIA CALAVENA</td>\n",
       "      <td>VERONA</td>\n",
       "      <td>NaN</td>\n",
       "    </tr>\n",
       "    <tr>\n",
       "      <th>...</th>\n",
       "      <td>...</td>\n",
       "      <td>...</td>\n",
       "      <td>...</td>\n",
       "      <td>...</td>\n",
       "    </tr>\n",
       "    <tr>\n",
       "      <th>2325</th>\n",
       "      <td>2001</td>\n",
       "      <td>VILLADOSE</td>\n",
       "      <td>ROVIGO</td>\n",
       "      <td>246.0</td>\n",
       "    </tr>\n",
       "    <tr>\n",
       "      <th>2326</th>\n",
       "      <td>2001</td>\n",
       "      <td>VILLAMARZANA</td>\n",
       "      <td>ROVIGO</td>\n",
       "      <td>59.0</td>\n",
       "    </tr>\n",
       "    <tr>\n",
       "      <th>2327</th>\n",
       "      <td>2001</td>\n",
       "      <td>VILLANOVA DEL GHEBBO</td>\n",
       "      <td>ROVIGO</td>\n",
       "      <td>85.0</td>\n",
       "    </tr>\n",
       "    <tr>\n",
       "      <th>2328</th>\n",
       "      <td>2001</td>\n",
       "      <td>VILLANOVA MARCHESANA</td>\n",
       "      <td>ROVIGO</td>\n",
       "      <td>133.0</td>\n",
       "    </tr>\n",
       "    <tr>\n",
       "      <th>2329</th>\n",
       "      <td>2001</td>\n",
       "      <td>PORTO VIRO</td>\n",
       "      <td>ROVIGO</td>\n",
       "      <td>748.0</td>\n",
       "    </tr>\n",
       "  </tbody>\n",
       "</table>\n",
       "<p>2330 rows × 4 columns</p>\n",
       "</div>"
      ],
      "text/plain": [
       "      Anno                Comune Provincia  Numero alloggi\n",
       "0     1971                  AFFI    VERONA             NaN\n",
       "1     1971      ALBAREDO D'ADIGE    VERONA             NaN\n",
       "2     1971               ANGIARI    VERONA             NaN\n",
       "3     1971                ARCOLE    VERONA             NaN\n",
       "4     1971        BADIA CALAVENA    VERONA             NaN\n",
       "...    ...                   ...       ...             ...\n",
       "2325  2001             VILLADOSE    ROVIGO           246.0\n",
       "2326  2001          VILLAMARZANA    ROVIGO            59.0\n",
       "2327  2001  VILLANOVA DEL GHEBBO    ROVIGO            85.0\n",
       "2328  2001  VILLANOVA MARCHESANA    ROVIGO           133.0\n",
       "2329  2001            PORTO VIRO    ROVIGO           748.0\n",
       "\n",
       "[2330 rows x 4 columns]"
      ]
     },
     "execution_count": 7,
     "metadata": {},
     "output_type": "execute_result"
    }
   ],
   "source": [
    "df_new = df.copy() # creazione di una copia del dataframe originale\n",
    "# localizzazione di un valore o più e colonne mostrate con eventuale modifica\n",
    "df_new.loc[(df_new['Anno'] == 1971) & (df_new['Provincia'] == 'VERONA'), ['Numero alloggi']] = pd.NA\n",
    "df_new.isna().sum() # controllo dei valori nulli dopo la modifica\n",
    "df_new"
   ]
  },
  {
   "cell_type": "code",
   "execution_count": 8,
   "id": "a681128a",
   "metadata": {},
   "outputs": [
    {
     "data": {
      "application/vnd.microsoft.datawrangler.viewer.v0+json": {
       "columns": [
        {
         "name": "index",
         "rawType": "int64",
         "type": "integer"
        },
        {
         "name": "Anno",
         "rawType": "int64",
         "type": "integer"
        },
        {
         "name": "Comune",
         "rawType": "object",
         "type": "string"
        },
        {
         "name": "Provincia",
         "rawType": "object",
         "type": "string"
        },
        {
         "name": "Numero alloggi",
         "rawType": "float64",
         "type": "float"
        }
       ],
       "ref": "479ec97f-3b18-4627-8274-e6b1a3016617",
       "rows": [
        [
         "0",
         "1971",
         "AFFI",
         "VERONA",
         "137.0"
        ],
        [
         "1",
         "1971",
         "ALBAREDO D'ADIGE",
         "VERONA",
         "121.0"
        ],
        [
         "2",
         "1971",
         "ANGIARI",
         "VERONA",
         "79.0"
        ],
        [
         "3",
         "1971",
         "ARCOLE",
         "VERONA",
         "96.0"
        ],
        [
         "4",
         "1971",
         "BADIA CALAVENA",
         "VERONA",
         "665.0"
        ],
        [
         "5",
         "1971",
         "BARDOLINO",
         "VERONA",
         "2581.0"
        ],
        [
         "6",
         "1971",
         "BELFIORE",
         "VERONA",
         "65.0"
        ],
        [
         "7",
         "1971",
         "BEVILACQUA",
         "VERONA",
         "32.0"
        ],
        [
         "8",
         "1971",
         "BONAVIGO",
         "VERONA",
         "33.0"
        ],
        [
         "9",
         "1971",
         "BOSCHI SANT'ANNA",
         "VERONA",
         "96.0"
        ],
        [
         "10",
         "1971",
         "BOSCO CHIESANUOVA",
         "VERONA",
         "2654.0"
        ],
        [
         "11",
         "1971",
         "BOVOLONE",
         "VERONA",
         "146.0"
        ],
        [
         "12",
         "1971",
         "BRENTINO BELLUNO",
         "VERONA",
         "93.0"
        ],
        [
         "13",
         "1971",
         "BRENZONE",
         "VERONA",
         "917.0"
        ],
        [
         "14",
         "1971",
         "BUSSOLENGO",
         "VERONA",
         "408.0"
        ],
        [
         "15",
         "1971",
         "BUTTAPIETRA",
         "VERONA",
         "67.0"
        ],
        [
         "16",
         "1971",
         "CALDIERO",
         "VERONA",
         "274.0"
        ],
        [
         "17",
         "1971",
         "CAPRINO VERONESE",
         "VERONA",
         "690.0"
        ],
        [
         "18",
         "1971",
         "CASALEONE",
         "VERONA",
         "183.0"
        ],
        [
         "19",
         "1971",
         "CASTAGNARO",
         "VERONA",
         "109.0"
        ],
        [
         "20",
         "1971",
         "CASTEL D'AZZANO",
         "VERONA",
         "283.0"
        ],
        [
         "21",
         "1971",
         "CASTELNUOVO DEL GARDA",
         "VERONA",
         "525.0"
        ],
        [
         "22",
         "1971",
         "CAVAION VERONESE",
         "VERONA",
         "458.0"
        ],
        [
         "23",
         "1971",
         "CAZZANO DI TRAMIGNA",
         "VERONA",
         "115.0"
        ],
        [
         "24",
         "1971",
         "CEREA",
         "VERONA",
         "333.0"
        ],
        [
         "25",
         "1971",
         "CERRO VERONESE",
         "VERONA",
         "859.0"
        ],
        [
         "26",
         "1971",
         "COLOGNA VENETA",
         "VERONA",
         "204.0"
        ],
        [
         "27",
         "1971",
         "COLOGNOLA AI COLLI",
         "VERONA",
         "312.0"
        ],
        [
         "28",
         "1971",
         "CONCAMARISE",
         "VERONA",
         "50.0"
        ],
        [
         "29",
         "1971",
         "COSTERMANO SUL GARDA",
         "VERONA",
         "557.0"
        ],
        [
         "30",
         "1971",
         "DOLCE'",
         "VERONA",
         "146.0"
        ],
        [
         "31",
         "1971",
         "ERBE'",
         "VERONA",
         "107.0"
        ],
        [
         "32",
         "1971",
         "ERBEZZO",
         "VERONA",
         "544.0"
        ],
        [
         "33",
         "1971",
         "FERRARA DI MONTE BALDO",
         "VERONA",
         "462.0"
        ],
        [
         "34",
         "1971",
         "FUMANE",
         "VERONA",
         "382.0"
        ],
        [
         "35",
         "1971",
         "GARDA",
         "VERONA",
         "1014.0"
        ],
        [
         "36",
         "1971",
         "GAZZO VERONESE",
         "VERONA",
         "172.0"
        ],
        [
         "37",
         "1971",
         "GREZZANA",
         "VERONA",
         "666.0"
        ],
        [
         "38",
         "1971",
         "ILLASI",
         "VERONA",
         "283.0"
        ],
        [
         "39",
         "1971",
         "ISOLA DELLA SCALA",
         "VERONA",
         "177.0"
        ],
        [
         "40",
         "1971",
         "ISOLA RIZZA",
         "VERONA",
         "71.0"
        ],
        [
         "41",
         "1971",
         "LAVAGNO",
         "VERONA",
         "138.0"
        ],
        [
         "42",
         "1971",
         "LAZISE",
         "VERONA",
         "1049.0"
        ],
        [
         "43",
         "1971",
         "LEGNAGO",
         "VERONA",
         "576.0"
        ],
        [
         "44",
         "1971",
         "MALCESINE",
         "VERONA",
         "1305.0"
        ],
        [
         "45",
         "1971",
         "MARANO DI VALPOLICELLA",
         "VERONA",
         "164.0"
        ],
        [
         "46",
         "1971",
         "MEZZANE DI SOTTO",
         "VERONA",
         "136.0"
        ],
        [
         "47",
         "1971",
         "MINERBE",
         "VERONA",
         "167.0"
        ],
        [
         "48",
         "1971",
         "MONTECCHIA DI CROSARA",
         "VERONA",
         "75.0"
        ],
        [
         "49",
         "1971",
         "MONTEFORTE D'ALPONE",
         "VERONA",
         "259.0"
        ]
       ],
       "shape": {
        "columns": 4,
        "rows": 2330
       }
      },
      "text/html": [
       "<div>\n",
       "<style scoped>\n",
       "    .dataframe tbody tr th:only-of-type {\n",
       "        vertical-align: middle;\n",
       "    }\n",
       "\n",
       "    .dataframe tbody tr th {\n",
       "        vertical-align: top;\n",
       "    }\n",
       "\n",
       "    .dataframe thead th {\n",
       "        text-align: right;\n",
       "    }\n",
       "</style>\n",
       "<table border=\"1\" class=\"dataframe\">\n",
       "  <thead>\n",
       "    <tr style=\"text-align: right;\">\n",
       "      <th></th>\n",
       "      <th>Anno</th>\n",
       "      <th>Comune</th>\n",
       "      <th>Provincia</th>\n",
       "      <th>Numero alloggi</th>\n",
       "    </tr>\n",
       "  </thead>\n",
       "  <tbody>\n",
       "    <tr>\n",
       "      <th>0</th>\n",
       "      <td>1971</td>\n",
       "      <td>AFFI</td>\n",
       "      <td>VERONA</td>\n",
       "      <td>137.0</td>\n",
       "    </tr>\n",
       "    <tr>\n",
       "      <th>1</th>\n",
       "      <td>1971</td>\n",
       "      <td>ALBAREDO D'ADIGE</td>\n",
       "      <td>VERONA</td>\n",
       "      <td>121.0</td>\n",
       "    </tr>\n",
       "    <tr>\n",
       "      <th>2</th>\n",
       "      <td>1971</td>\n",
       "      <td>ANGIARI</td>\n",
       "      <td>VERONA</td>\n",
       "      <td>79.0</td>\n",
       "    </tr>\n",
       "    <tr>\n",
       "      <th>3</th>\n",
       "      <td>1971</td>\n",
       "      <td>ARCOLE</td>\n",
       "      <td>VERONA</td>\n",
       "      <td>96.0</td>\n",
       "    </tr>\n",
       "    <tr>\n",
       "      <th>4</th>\n",
       "      <td>1971</td>\n",
       "      <td>BADIA CALAVENA</td>\n",
       "      <td>VERONA</td>\n",
       "      <td>665.0</td>\n",
       "    </tr>\n",
       "    <tr>\n",
       "      <th>...</th>\n",
       "      <td>...</td>\n",
       "      <td>...</td>\n",
       "      <td>...</td>\n",
       "      <td>...</td>\n",
       "    </tr>\n",
       "    <tr>\n",
       "      <th>2325</th>\n",
       "      <td>2001</td>\n",
       "      <td>VILLADOSE</td>\n",
       "      <td>ROVIGO</td>\n",
       "      <td>246.0</td>\n",
       "    </tr>\n",
       "    <tr>\n",
       "      <th>2326</th>\n",
       "      <td>2001</td>\n",
       "      <td>VILLAMARZANA</td>\n",
       "      <td>ROVIGO</td>\n",
       "      <td>59.0</td>\n",
       "    </tr>\n",
       "    <tr>\n",
       "      <th>2327</th>\n",
       "      <td>2001</td>\n",
       "      <td>VILLANOVA DEL GHEBBO</td>\n",
       "      <td>ROVIGO</td>\n",
       "      <td>85.0</td>\n",
       "    </tr>\n",
       "    <tr>\n",
       "      <th>2328</th>\n",
       "      <td>2001</td>\n",
       "      <td>VILLANOVA MARCHESANA</td>\n",
       "      <td>ROVIGO</td>\n",
       "      <td>133.0</td>\n",
       "    </tr>\n",
       "    <tr>\n",
       "      <th>2329</th>\n",
       "      <td>2001</td>\n",
       "      <td>PORTO VIRO</td>\n",
       "      <td>ROVIGO</td>\n",
       "      <td>748.0</td>\n",
       "    </tr>\n",
       "  </tbody>\n",
       "</table>\n",
       "<p>2330 rows × 4 columns</p>\n",
       "</div>"
      ],
      "text/plain": [
       "      Anno                Comune Provincia  Numero alloggi\n",
       "0     1971                  AFFI    VERONA           137.0\n",
       "1     1971      ALBAREDO D'ADIGE    VERONA           121.0\n",
       "2     1971               ANGIARI    VERONA            79.0\n",
       "3     1971                ARCOLE    VERONA            96.0\n",
       "4     1971        BADIA CALAVENA    VERONA           665.0\n",
       "...    ...                   ...       ...             ...\n",
       "2325  2001             VILLADOSE    ROVIGO           246.0\n",
       "2326  2001          VILLAMARZANA    ROVIGO            59.0\n",
       "2327  2001  VILLANOVA DEL GHEBBO    ROVIGO            85.0\n",
       "2328  2001  VILLANOVA MARCHESANA    ROVIGO           133.0\n",
       "2329  2001            PORTO VIRO    ROVIGO           748.0\n",
       "\n",
       "[2330 rows x 4 columns]"
      ]
     },
     "execution_count": 8,
     "metadata": {},
     "output_type": "execute_result"
    }
   ],
   "source": [
    "df_new['Numero alloggi']= df_new.groupby('Comune')['Numero alloggi'].bfill()\n",
    "df_new"
   ]
  },
  {
   "cell_type": "code",
   "execution_count": 9,
   "id": "838feb6d",
   "metadata": {},
   "outputs": [
    {
     "data": {
      "application/vnd.microsoft.datawrangler.viewer.v0+json": {
       "columns": [
        {
         "name": "index",
         "rawType": "int64",
         "type": "integer"
        },
        {
         "name": "Anno",
         "rawType": "int64",
         "type": "integer"
        },
        {
         "name": "Comune",
         "rawType": "object",
         "type": "string"
        },
        {
         "name": "Provincia",
         "rawType": "object",
         "type": "string"
        },
        {
         "name": "Numero alloggi",
         "rawType": "float64",
         "type": "float"
        }
       ],
       "ref": "a1413935-2f6c-4d13-b31f-d43c0468609a",
       "rows": [
        [
         "0",
         "1971",
         "AFFI",
         "VERONA",
         "137.0"
        ],
        [
         "1",
         "1971",
         "ALBAREDO D'ADIGE",
         "VERONA",
         "121.0"
        ],
        [
         "2",
         "1971",
         "ANGIARI",
         "VERONA",
         "79.0"
        ],
        [
         "3",
         "1971",
         "ARCOLE",
         "VERONA",
         "96.0"
        ],
        [
         "4",
         "1971",
         "BADIA CALAVENA",
         "VERONA",
         "665.0"
        ],
        [
         "5",
         "1971",
         "BARDOLINO",
         "VERONA",
         "2581.0"
        ],
        [
         "6",
         "1971",
         "BELFIORE",
         "VERONA",
         "65.0"
        ],
        [
         "7",
         "1971",
         "BEVILACQUA",
         "VERONA",
         "32.0"
        ],
        [
         "8",
         "1971",
         "BONAVIGO",
         "VERONA",
         "33.0"
        ],
        [
         "9",
         "1971",
         "BOSCHI SANT'ANNA",
         "VERONA",
         "96.0"
        ],
        [
         "10",
         "1971",
         "BOSCO CHIESANUOVA",
         "VERONA",
         "2654.0"
        ],
        [
         "11",
         "1971",
         "BOVOLONE",
         "VERONA",
         "146.0"
        ],
        [
         "12",
         "1971",
         "BRENTINO BELLUNO",
         "VERONA",
         "93.0"
        ],
        [
         "13",
         "1971",
         "BRENZONE",
         "VERONA",
         "917.0"
        ],
        [
         "14",
         "1971",
         "BUSSOLENGO",
         "VERONA",
         "408.0"
        ],
        [
         "15",
         "1971",
         "BUTTAPIETRA",
         "VERONA",
         "67.0"
        ],
        [
         "16",
         "1971",
         "CALDIERO",
         "VERONA",
         "274.0"
        ],
        [
         "17",
         "1971",
         "CAPRINO VERONESE",
         "VERONA",
         "690.0"
        ],
        [
         "18",
         "1971",
         "CASALEONE",
         "VERONA",
         "183.0"
        ],
        [
         "19",
         "1971",
         "CASTAGNARO",
         "VERONA",
         "109.0"
        ],
        [
         "20",
         "1971",
         "CASTEL D'AZZANO",
         "VERONA",
         "283.0"
        ],
        [
         "21",
         "1971",
         "CASTELNUOVO DEL GARDA",
         "VERONA",
         "525.0"
        ],
        [
         "22",
         "1971",
         "CAVAION VERONESE",
         "VERONA",
         "458.0"
        ],
        [
         "23",
         "1971",
         "CAZZANO DI TRAMIGNA",
         "VERONA",
         "115.0"
        ],
        [
         "24",
         "1971",
         "CEREA",
         "VERONA",
         "333.0"
        ],
        [
         "25",
         "1971",
         "CERRO VERONESE",
         "VERONA",
         "859.0"
        ],
        [
         "26",
         "1971",
         "COLOGNA VENETA",
         "VERONA",
         "204.0"
        ],
        [
         "27",
         "1971",
         "COLOGNOLA AI COLLI",
         "VERONA",
         "312.0"
        ],
        [
         "28",
         "1971",
         "CONCAMARISE",
         "VERONA",
         "50.0"
        ],
        [
         "29",
         "1971",
         "COSTERMANO SUL GARDA",
         "VERONA",
         "557.0"
        ],
        [
         "30",
         "1971",
         "DOLCE'",
         "VERONA",
         "146.0"
        ],
        [
         "31",
         "1971",
         "ERBE'",
         "VERONA",
         "107.0"
        ],
        [
         "32",
         "1971",
         "ERBEZZO",
         "VERONA",
         "544.0"
        ],
        [
         "33",
         "1971",
         "FERRARA DI MONTE BALDO",
         "VERONA",
         "462.0"
        ],
        [
         "34",
         "1971",
         "FUMANE",
         "VERONA",
         "382.0"
        ],
        [
         "35",
         "1971",
         "GARDA",
         "VERONA",
         "1014.0"
        ],
        [
         "36",
         "1971",
         "GAZZO VERONESE",
         "VERONA",
         "172.0"
        ],
        [
         "37",
         "1971",
         "GREZZANA",
         "VERONA",
         "666.0"
        ],
        [
         "38",
         "1971",
         "ILLASI",
         "VERONA",
         "283.0"
        ],
        [
         "39",
         "1971",
         "ISOLA DELLA SCALA",
         "VERONA",
         "177.0"
        ],
        [
         "40",
         "1971",
         "ISOLA RIZZA",
         "VERONA",
         "71.0"
        ],
        [
         "41",
         "1971",
         "LAVAGNO",
         "VERONA",
         "138.0"
        ],
        [
         "42",
         "1971",
         "LAZISE",
         "VERONA",
         "1049.0"
        ],
        [
         "43",
         "1971",
         "LEGNAGO",
         "VERONA",
         "576.0"
        ],
        [
         "44",
         "1971",
         "MALCESINE",
         "VERONA",
         "1305.0"
        ],
        [
         "45",
         "1971",
         "MARANO DI VALPOLICELLA",
         "VERONA",
         "164.0"
        ],
        [
         "46",
         "1971",
         "MEZZANE DI SOTTO",
         "VERONA",
         "136.0"
        ],
        [
         "47",
         "1971",
         "MINERBE",
         "VERONA",
         "167.0"
        ],
        [
         "48",
         "1971",
         "MONTECCHIA DI CROSARA",
         "VERONA",
         "75.0"
        ],
        [
         "49",
         "1971",
         "MONTEFORTE D'ALPONE",
         "VERONA",
         "259.0"
        ]
       ],
       "shape": {
        "columns": 4,
        "rows": 2330
       }
      },
      "text/html": [
       "<div>\n",
       "<style scoped>\n",
       "    .dataframe tbody tr th:only-of-type {\n",
       "        vertical-align: middle;\n",
       "    }\n",
       "\n",
       "    .dataframe tbody tr th {\n",
       "        vertical-align: top;\n",
       "    }\n",
       "\n",
       "    .dataframe thead th {\n",
       "        text-align: right;\n",
       "    }\n",
       "</style>\n",
       "<table border=\"1\" class=\"dataframe\">\n",
       "  <thead>\n",
       "    <tr style=\"text-align: right;\">\n",
       "      <th></th>\n",
       "      <th>Anno</th>\n",
       "      <th>Comune</th>\n",
       "      <th>Provincia</th>\n",
       "      <th>Numero alloggi</th>\n",
       "    </tr>\n",
       "  </thead>\n",
       "  <tbody>\n",
       "    <tr>\n",
       "      <th>0</th>\n",
       "      <td>1971</td>\n",
       "      <td>AFFI</td>\n",
       "      <td>VERONA</td>\n",
       "      <td>137.0</td>\n",
       "    </tr>\n",
       "    <tr>\n",
       "      <th>1</th>\n",
       "      <td>1971</td>\n",
       "      <td>ALBAREDO D'ADIGE</td>\n",
       "      <td>VERONA</td>\n",
       "      <td>121.0</td>\n",
       "    </tr>\n",
       "    <tr>\n",
       "      <th>2</th>\n",
       "      <td>1971</td>\n",
       "      <td>ANGIARI</td>\n",
       "      <td>VERONA</td>\n",
       "      <td>79.0</td>\n",
       "    </tr>\n",
       "    <tr>\n",
       "      <th>3</th>\n",
       "      <td>1971</td>\n",
       "      <td>ARCOLE</td>\n",
       "      <td>VERONA</td>\n",
       "      <td>96.0</td>\n",
       "    </tr>\n",
       "    <tr>\n",
       "      <th>4</th>\n",
       "      <td>1971</td>\n",
       "      <td>BADIA CALAVENA</td>\n",
       "      <td>VERONA</td>\n",
       "      <td>665.0</td>\n",
       "    </tr>\n",
       "    <tr>\n",
       "      <th>...</th>\n",
       "      <td>...</td>\n",
       "      <td>...</td>\n",
       "      <td>...</td>\n",
       "      <td>...</td>\n",
       "    </tr>\n",
       "    <tr>\n",
       "      <th>2325</th>\n",
       "      <td>2001</td>\n",
       "      <td>VILLADOSE</td>\n",
       "      <td>ROVIGO</td>\n",
       "      <td>246.0</td>\n",
       "    </tr>\n",
       "    <tr>\n",
       "      <th>2326</th>\n",
       "      <td>2001</td>\n",
       "      <td>VILLAMARZANA</td>\n",
       "      <td>ROVIGO</td>\n",
       "      <td>59.0</td>\n",
       "    </tr>\n",
       "    <tr>\n",
       "      <th>2327</th>\n",
       "      <td>2001</td>\n",
       "      <td>VILLANOVA DEL GHEBBO</td>\n",
       "      <td>ROVIGO</td>\n",
       "      <td>85.0</td>\n",
       "    </tr>\n",
       "    <tr>\n",
       "      <th>2328</th>\n",
       "      <td>2001</td>\n",
       "      <td>VILLANOVA MARCHESANA</td>\n",
       "      <td>ROVIGO</td>\n",
       "      <td>133.0</td>\n",
       "    </tr>\n",
       "    <tr>\n",
       "      <th>2329</th>\n",
       "      <td>2001</td>\n",
       "      <td>PORTO VIRO</td>\n",
       "      <td>ROVIGO</td>\n",
       "      <td>748.0</td>\n",
       "    </tr>\n",
       "  </tbody>\n",
       "</table>\n",
       "<p>2330 rows × 4 columns</p>\n",
       "</div>"
      ],
      "text/plain": [
       "      Anno                Comune Provincia  Numero alloggi\n",
       "0     1971                  AFFI    VERONA           137.0\n",
       "1     1971      ALBAREDO D'ADIGE    VERONA           121.0\n",
       "2     1971               ANGIARI    VERONA            79.0\n",
       "3     1971                ARCOLE    VERONA            96.0\n",
       "4     1971        BADIA CALAVENA    VERONA           665.0\n",
       "...    ...                   ...       ...             ...\n",
       "2325  2001             VILLADOSE    ROVIGO           246.0\n",
       "2326  2001          VILLAMARZANA    ROVIGO            59.0\n",
       "2327  2001  VILLANOVA DEL GHEBBO    ROVIGO            85.0\n",
       "2328  2001  VILLANOVA MARCHESANA    ROVIGO           133.0\n",
       "2329  2001            PORTO VIRO    ROVIGO           748.0\n",
       "\n",
       "[2330 rows x 4 columns]"
      ]
     },
     "execution_count": 9,
     "metadata": {},
     "output_type": "execute_result"
    }
   ],
   "source": [
    "df_new.loc[(((df_new['Anno'] == 1981) | (df_new['Anno'] == 1991)) & (df_new['Provincia'] == 'VERONA')),['Numero alloggi']] = pd.NA\n",
    "df_new"
   ]
  },
  {
   "cell_type": "code",
   "execution_count": 10,
   "id": "2f352c9c",
   "metadata": {},
   "outputs": [
    {
     "data": {
      "application/vnd.microsoft.datawrangler.viewer.v0+json": {
       "columns": [
        {
         "name": "index",
         "rawType": "int64",
         "type": "integer"
        },
        {
         "name": "Anno",
         "rawType": "int64",
         "type": "integer"
        },
        {
         "name": "Comune",
         "rawType": "object",
         "type": "string"
        },
        {
         "name": "Provincia",
         "rawType": "object",
         "type": "string"
        },
        {
         "name": "Numero alloggi",
         "rawType": "float64",
         "type": "float"
        }
       ],
       "ref": "90bb7c17-4a76-4d9c-bdb6-6b138336b278",
       "rows": [
        [
         "0",
         "1971",
         "AFFI",
         "VERONA",
         "137.0"
        ],
        [
         "583",
         "1981",
         "AFFI",
         "VERONA",
         "117.66666666666667"
        ],
        [
         "1166",
         "1991",
         "AFFI",
         "VERONA",
         "98.33333333333334"
        ],
        [
         "1749",
         "2001",
         "AFFI",
         "VERONA",
         "79.0"
        ]
       ],
       "shape": {
        "columns": 4,
        "rows": 4
       }
      },
      "text/html": [
       "<div>\n",
       "<style scoped>\n",
       "    .dataframe tbody tr th:only-of-type {\n",
       "        vertical-align: middle;\n",
       "    }\n",
       "\n",
       "    .dataframe tbody tr th {\n",
       "        vertical-align: top;\n",
       "    }\n",
       "\n",
       "    .dataframe thead th {\n",
       "        text-align: right;\n",
       "    }\n",
       "</style>\n",
       "<table border=\"1\" class=\"dataframe\">\n",
       "  <thead>\n",
       "    <tr style=\"text-align: right;\">\n",
       "      <th></th>\n",
       "      <th>Anno</th>\n",
       "      <th>Comune</th>\n",
       "      <th>Provincia</th>\n",
       "      <th>Numero alloggi</th>\n",
       "    </tr>\n",
       "  </thead>\n",
       "  <tbody>\n",
       "    <tr>\n",
       "      <th>0</th>\n",
       "      <td>1971</td>\n",
       "      <td>AFFI</td>\n",
       "      <td>VERONA</td>\n",
       "      <td>137.000000</td>\n",
       "    </tr>\n",
       "    <tr>\n",
       "      <th>583</th>\n",
       "      <td>1981</td>\n",
       "      <td>AFFI</td>\n",
       "      <td>VERONA</td>\n",
       "      <td>117.666667</td>\n",
       "    </tr>\n",
       "    <tr>\n",
       "      <th>1166</th>\n",
       "      <td>1991</td>\n",
       "      <td>AFFI</td>\n",
       "      <td>VERONA</td>\n",
       "      <td>98.333333</td>\n",
       "    </tr>\n",
       "    <tr>\n",
       "      <th>1749</th>\n",
       "      <td>2001</td>\n",
       "      <td>AFFI</td>\n",
       "      <td>VERONA</td>\n",
       "      <td>79.000000</td>\n",
       "    </tr>\n",
       "  </tbody>\n",
       "</table>\n",
       "</div>"
      ],
      "text/plain": [
       "      Anno Comune Provincia  Numero alloggi\n",
       "0     1971   AFFI    VERONA      137.000000\n",
       "583   1981   AFFI    VERONA      117.666667\n",
       "1166  1991   AFFI    VERONA       98.333333\n",
       "1749  2001   AFFI    VERONA       79.000000"
      ]
     },
     "execution_count": 10,
     "metadata": {},
     "output_type": "execute_result"
    }
   ],
   "source": [
    "df_new = df_new.sort_values(['Comune', 'Anno'])\n",
    "\n",
    "df_new['Numero alloggi'] = (\n",
    "    df_new\n",
    "    .groupby('Comune')['Numero alloggi']\n",
    "    .transform(\n",
    "        pd.Series.interpolate,\n",
    "        method='linear'\n",
    "    )\n",
    ")\n",
    "df_new.loc[df_new['Comune']=='AFFI']\n"
   ]
  },
  {
   "cell_type": "code",
   "execution_count": 11,
   "id": "89d02e4d",
   "metadata": {},
   "outputs": [
    {
     "data": {
      "application/vnd.microsoft.datawrangler.viewer.v0+json": {
       "columns": [
        {
         "name": "index",
         "rawType": "int64",
         "type": "integer"
        },
        {
         "name": "Anno",
         "rawType": "int64",
         "type": "integer"
        },
        {
         "name": "Comune",
         "rawType": "object",
         "type": "string"
        },
        {
         "name": "Provincia",
         "rawType": "object",
         "type": "string"
        },
        {
         "name": "Numero alloggi",
         "rawType": "float64",
         "type": "float"
        },
        {
         "name": "Test",
         "rawType": "object",
         "type": "unknown"
        }
       ],
       "ref": "1a7fb684-2184-4c69-8ef7-1a39b3e0ba8a",
       "rows": [
        [
         "427",
         "1971",
         "ABANO TERME",
         "PADOVA",
         "86.0",
         null
        ],
        [
         "1010",
         "1981",
         "ABANO TERME",
         "PADOVA",
         "538.0",
         null
        ],
        [
         "1593",
         "1991",
         "ABANO TERME",
         "PADOVA",
         "503.0",
         null
        ],
        [
         "2177",
         "2001",
         "ABANO TERME",
         "PADOVA",
         "510.0",
         null
        ],
        [
         "532",
         "1971",
         "ADRIA",
         "ROVIGO",
         "243.0",
         null
        ],
        [
         "1115",
         "1981",
         "ADRIA",
         "ROVIGO",
         "837.0",
         null
        ],
        [
         "1698",
         "1991",
         "ADRIA",
         "ROVIGO",
         "699.0",
         null
        ],
        [
         "2281",
         "2001",
         "ADRIA",
         "ROVIGO",
         "1072.0",
         null
        ],
        [
         "0",
         "1971",
         "AFFI",
         "VERONA",
         "137.0",
         null
        ],
        [
         "583",
         "1981",
         "AFFI",
         "VERONA",
         "117.66666666666667",
         null
        ],
        [
         "1166",
         "1991",
         "AFFI",
         "VERONA",
         "98.33333333333334",
         null
        ],
        [
         "1749",
         "2001",
         "AFFI",
         "VERONA",
         "79.0",
         null
        ],
        [
         "428",
         "1971",
         "AGNA",
         "PADOVA",
         "51.0",
         null
        ],
        [
         "1011",
         "1981",
         "AGNA",
         "PADOVA",
         "71.0",
         null
        ],
        [
         "1594",
         "1991",
         "AGNA",
         "PADOVA",
         "77.0",
         null
        ],
        [
         "2178",
         "2001",
         "AGNA",
         "PADOVA",
         "196.0",
         null
        ],
        [
         "219",
         "1971",
         "AGORDO",
         "BELLUNO",
         "228.0",
         null
        ],
        [
         "802",
         "1981",
         "AGORDO",
         "BELLUNO",
         "506.0",
         null
        ],
        [
         "1385",
         "1991",
         "AGORDO",
         "BELLUNO",
         "481.0",
         null
        ],
        [
         "1968",
         "2001",
         "AGORDO",
         "BELLUNO",
         "692.0",
         null
        ],
        [
         "98",
         "1971",
         "AGUGLIARO",
         "VICENZA",
         "33.0",
         null
        ],
        [
         "681",
         "1981",
         "AGUGLIARO",
         "VICENZA",
         "63.0",
         null
        ],
        [
         "1264",
         "1991",
         "AGUGLIARO",
         "VICENZA",
         "92.0",
         null
        ],
        [
         "1847",
         "2001",
         "AGUGLIARO",
         "VICENZA",
         "48.0",
         null
        ],
        [
         "220",
         "1971",
         "ALANO DI PIAVE",
         "BELLUNO",
         "299.0",
         null
        ],
        [
         "803",
         "1981",
         "ALANO DI PIAVE",
         "BELLUNO",
         "399.0",
         null
        ],
        [
         "1386",
         "1991",
         "ALANO DI PIAVE",
         "BELLUNO",
         "464.0",
         null
        ],
        [
         "1969",
         "2001",
         "ALANO DI PIAVE",
         "BELLUNO",
         "382.0",
         null
        ],
        [
         "1",
         "1971",
         "ALBAREDO D'ADIGE",
         "VERONA",
         "121.0",
         null
        ],
        [
         "584",
         "1981",
         "ALBAREDO D'ADIGE",
         "VERONA",
         "110.33333333333333",
         null
        ],
        [
         "1167",
         "1991",
         "ALBAREDO D'ADIGE",
         "VERONA",
         "99.66666666666667",
         null
        ],
        [
         "1750",
         "2001",
         "ALBAREDO D'ADIGE",
         "VERONA",
         "89.0",
         null
        ],
        [
         "99",
         "1971",
         "ALBETTONE",
         "VICENZA",
         "74.0",
         null
        ],
        [
         "682",
         "1981",
         "ALBETTONE",
         "VICENZA",
         "137.0",
         null
        ],
        [
         "1265",
         "1991",
         "ALBETTONE",
         "VICENZA",
         "138.0",
         null
        ],
        [
         "1848",
         "2001",
         "ALBETTONE",
         "VICENZA",
         "26.0",
         null
        ],
        [
         "429",
         "1971",
         "ALBIGNASEGO",
         "PADOVA",
         "148.0",
         null
        ],
        [
         "1012",
         "1981",
         "ALBIGNASEGO",
         "PADOVA",
         "312.0",
         null
        ],
        [
         "1595",
         "1991",
         "ALBIGNASEGO",
         "PADOVA",
         "364.0",
         null
        ],
        [
         "2179",
         "2001",
         "ALBIGNASEGO",
         "PADOVA",
         "340.0",
         null
        ],
        [
         "221",
         "1971",
         "ALLEGHE",
         "BELLUNO",
         "245.0",
         null
        ],
        [
         "804",
         "1981",
         "ALLEGHE",
         "BELLUNO",
         "549.0",
         null
        ],
        [
         "1387",
         "1991",
         "ALLEGHE",
         "BELLUNO",
         "742.0",
         null
        ],
        [
         "1970",
         "2001",
         "ALLEGHE",
         "BELLUNO",
         "925.0",
         null
        ],
        [
         "100",
         "1971",
         "ALONTE",
         "VICENZA",
         "17.0",
         null
        ],
        [
         "683",
         "1981",
         "ALONTE",
         "VICENZA",
         "49.0",
         null
        ],
        [
         "1266",
         "1991",
         "ALONTE",
         "VICENZA",
         "74.0",
         null
        ],
        [
         "1849",
         "2001",
         "ALONTE",
         "VICENZA",
         "74.0",
         null
        ],
        [
         "101",
         "1971",
         "ALTAVILLA VICENTINA",
         "VICENZA",
         "109.0",
         null
        ],
        [
         "684",
         "1981",
         "ALTAVILLA VICENTINA",
         "VICENZA",
         "300.0",
         null
        ]
       ],
       "shape": {
        "columns": 5,
        "rows": 2330
       }
      },
      "text/html": [
       "<div>\n",
       "<style scoped>\n",
       "    .dataframe tbody tr th:only-of-type {\n",
       "        vertical-align: middle;\n",
       "    }\n",
       "\n",
       "    .dataframe tbody tr th {\n",
       "        vertical-align: top;\n",
       "    }\n",
       "\n",
       "    .dataframe thead th {\n",
       "        text-align: right;\n",
       "    }\n",
       "</style>\n",
       "<table border=\"1\" class=\"dataframe\">\n",
       "  <thead>\n",
       "    <tr style=\"text-align: right;\">\n",
       "      <th></th>\n",
       "      <th>Anno</th>\n",
       "      <th>Comune</th>\n",
       "      <th>Provincia</th>\n",
       "      <th>Numero alloggi</th>\n",
       "      <th>Test</th>\n",
       "    </tr>\n",
       "  </thead>\n",
       "  <tbody>\n",
       "    <tr>\n",
       "      <th>427</th>\n",
       "      <td>1971</td>\n",
       "      <td>ABANO TERME</td>\n",
       "      <td>PADOVA</td>\n",
       "      <td>86.0</td>\n",
       "      <td>None</td>\n",
       "    </tr>\n",
       "    <tr>\n",
       "      <th>1010</th>\n",
       "      <td>1981</td>\n",
       "      <td>ABANO TERME</td>\n",
       "      <td>PADOVA</td>\n",
       "      <td>538.0</td>\n",
       "      <td>None</td>\n",
       "    </tr>\n",
       "    <tr>\n",
       "      <th>1593</th>\n",
       "      <td>1991</td>\n",
       "      <td>ABANO TERME</td>\n",
       "      <td>PADOVA</td>\n",
       "      <td>503.0</td>\n",
       "      <td>None</td>\n",
       "    </tr>\n",
       "    <tr>\n",
       "      <th>2177</th>\n",
       "      <td>2001</td>\n",
       "      <td>ABANO TERME</td>\n",
       "      <td>PADOVA</td>\n",
       "      <td>510.0</td>\n",
       "      <td>None</td>\n",
       "    </tr>\n",
       "    <tr>\n",
       "      <th>532</th>\n",
       "      <td>1971</td>\n",
       "      <td>ADRIA</td>\n",
       "      <td>ROVIGO</td>\n",
       "      <td>243.0</td>\n",
       "      <td>None</td>\n",
       "    </tr>\n",
       "    <tr>\n",
       "      <th>...</th>\n",
       "      <td>...</td>\n",
       "      <td>...</td>\n",
       "      <td>...</td>\n",
       "      <td>...</td>\n",
       "      <td>...</td>\n",
       "    </tr>\n",
       "    <tr>\n",
       "      <th>1966</th>\n",
       "      <td>2001</td>\n",
       "      <td>ZOVENCEDO</td>\n",
       "      <td>VICENZA</td>\n",
       "      <td>124.0</td>\n",
       "      <td>None</td>\n",
       "    </tr>\n",
       "    <tr>\n",
       "      <th>218</th>\n",
       "      <td>1971</td>\n",
       "      <td>ZUGLIANO</td>\n",
       "      <td>VICENZA</td>\n",
       "      <td>17.0</td>\n",
       "      <td>None</td>\n",
       "    </tr>\n",
       "    <tr>\n",
       "      <th>801</th>\n",
       "      <td>1981</td>\n",
       "      <td>ZUGLIANO</td>\n",
       "      <td>VICENZA</td>\n",
       "      <td>139.0</td>\n",
       "      <td>None</td>\n",
       "    </tr>\n",
       "    <tr>\n",
       "      <th>1384</th>\n",
       "      <td>1991</td>\n",
       "      <td>ZUGLIANO</td>\n",
       "      <td>VICENZA</td>\n",
       "      <td>168.0</td>\n",
       "      <td>None</td>\n",
       "    </tr>\n",
       "    <tr>\n",
       "      <th>1967</th>\n",
       "      <td>2001</td>\n",
       "      <td>ZUGLIANO</td>\n",
       "      <td>VICENZA</td>\n",
       "      <td>188.0</td>\n",
       "      <td>None</td>\n",
       "    </tr>\n",
       "  </tbody>\n",
       "</table>\n",
       "<p>2330 rows × 5 columns</p>\n",
       "</div>"
      ],
      "text/plain": [
       "      Anno       Comune Provincia  Numero alloggi  Test\n",
       "427   1971  ABANO TERME    PADOVA            86.0  None\n",
       "1010  1981  ABANO TERME    PADOVA           538.0  None\n",
       "1593  1991  ABANO TERME    PADOVA           503.0  None\n",
       "2177  2001  ABANO TERME    PADOVA           510.0  None\n",
       "532   1971        ADRIA    ROVIGO           243.0  None\n",
       "...    ...          ...       ...             ...   ...\n",
       "1966  2001    ZOVENCEDO   VICENZA           124.0  None\n",
       "218   1971     ZUGLIANO   VICENZA            17.0  None\n",
       "801   1981     ZUGLIANO   VICENZA           139.0  None\n",
       "1384  1991     ZUGLIANO   VICENZA           168.0  None\n",
       "1967  2001     ZUGLIANO   VICENZA           188.0  None\n",
       "\n",
       "[2330 rows x 5 columns]"
      ]
     },
     "execution_count": 11,
     "metadata": {},
     "output_type": "execute_result"
    }
   ],
   "source": [
    "#Creazione nuova colonna vuota\n",
    "df_new['Test']= None\n",
    "df_new"
   ]
  },
  {
   "cell_type": "code",
   "execution_count": null,
   "id": "2447c605",
   "metadata": {},
   "outputs": [
    {
     "data": {
      "application/vnd.microsoft.datawrangler.viewer.v0+json": {
       "columns": [
        {
         "name": "index",
         "rawType": "int64",
         "type": "integer"
        },
        {
         "name": "Anno",
         "rawType": "int64",
         "type": "integer"
        },
        {
         "name": "Comune",
         "rawType": "object",
         "type": "string"
        },
        {
         "name": "Provincia",
         "rawType": "object",
         "type": "string"
        },
        {
         "name": "Numero alloggi",
         "rawType": "float64",
         "type": "float"
        },
        {
         "name": "Test",
         "rawType": "object",
         "type": "unknown"
        }
       ],
       "ref": "539ed4d8-6054-4d38-a9f2-de133c507440",
       "rows": [
        [
         "427",
         "1971",
         "ABANO TERME",
         "PADOVA",
         "86.0",
         "Ciao a tutti"
        ],
        [
         "1010",
         "1981",
         "ABANO TERME",
         "PADOVA",
         "538.0",
         "Ciao a tutti"
        ],
        [
         "1593",
         "1991",
         "ABANO TERME",
         "PADOVA",
         "503.0",
         "Ciao a tutti"
        ],
        [
         "2177",
         "2001",
         "ABANO TERME",
         "PADOVA",
         "510.0",
         "Ciao a tutti"
        ],
        [
         "532",
         "1971",
         "ADRIA",
         "ROVIGO",
         "243.0",
         "Ciao a tutti"
        ],
        [
         "1115",
         "1981",
         "ADRIA",
         "ROVIGO",
         "837.0",
         "Ciao a tutti"
        ],
        [
         "1698",
         "1991",
         "ADRIA",
         "ROVIGO",
         "699.0",
         "Ciao a tutti"
        ],
        [
         "2281",
         "2001",
         "ADRIA",
         "ROVIGO",
         "1072.0",
         "Ciao a tutti"
        ],
        [
         "0",
         "1971",
         "AFFI",
         "VERONA",
         "137.0",
         "Mangia gatti"
        ],
        [
         "583",
         "1981",
         "AFFI",
         "VERONA",
         "117.66666666666667",
         "Mangia gatti"
        ],
        [
         "1166",
         "1991",
         "AFFI",
         "VERONA",
         "98.33333333333334",
         "Mangia gatti"
        ],
        [
         "1749",
         "2001",
         "AFFI",
         "VERONA",
         "79.0",
         "Mangia gatti"
        ],
        [
         "428",
         "1971",
         "AGNA",
         "PADOVA",
         "51.0",
         "Ciao a tutti"
        ],
        [
         "1011",
         "1981",
         "AGNA",
         "PADOVA",
         "71.0",
         "Ciao a tutti"
        ],
        [
         "1594",
         "1991",
         "AGNA",
         "PADOVA",
         "77.0",
         "Ciao a tutti"
        ],
        [
         "2178",
         "2001",
         "AGNA",
         "PADOVA",
         "196.0",
         "Ciao a tutti"
        ],
        [
         "219",
         "1971",
         "AGORDO",
         "BELLUNO",
         "228.0",
         "Ciao a tutti"
        ],
        [
         "802",
         "1981",
         "AGORDO",
         "BELLUNO",
         "506.0",
         "Ciao a tutti"
        ],
        [
         "1385",
         "1991",
         "AGORDO",
         "BELLUNO",
         "481.0",
         "Ciao a tutti"
        ],
        [
         "1968",
         "2001",
         "AGORDO",
         "BELLUNO",
         "692.0",
         "Ciao a tutti"
        ],
        [
         "98",
         "1971",
         "AGUGLIARO",
         "VICENZA",
         "33.0",
         "Mangia gatti"
        ],
        [
         "681",
         "1981",
         "AGUGLIARO",
         "VICENZA",
         "63.0",
         "Mangia gatti"
        ],
        [
         "1264",
         "1991",
         "AGUGLIARO",
         "VICENZA",
         "92.0",
         "Mangia gatti"
        ],
        [
         "1847",
         "2001",
         "AGUGLIARO",
         "VICENZA",
         "48.0",
         "Mangia gatti"
        ],
        [
         "220",
         "1971",
         "ALANO DI PIAVE",
         "BELLUNO",
         "299.0",
         "Ciao a tutti"
        ],
        [
         "803",
         "1981",
         "ALANO DI PIAVE",
         "BELLUNO",
         "399.0",
         "Ciao a tutti"
        ],
        [
         "1386",
         "1991",
         "ALANO DI PIAVE",
         "BELLUNO",
         "464.0",
         "Ciao a tutti"
        ],
        [
         "1969",
         "2001",
         "ALANO DI PIAVE",
         "BELLUNO",
         "382.0",
         "Ciao a tutti"
        ],
        [
         "1",
         "1971",
         "ALBAREDO D'ADIGE",
         "VERONA",
         "121.0",
         "Mangia gatti"
        ],
        [
         "584",
         "1981",
         "ALBAREDO D'ADIGE",
         "VERONA",
         "110.33333333333333",
         "Mangia gatti"
        ],
        [
         "1167",
         "1991",
         "ALBAREDO D'ADIGE",
         "VERONA",
         "99.66666666666667",
         "Mangia gatti"
        ],
        [
         "1750",
         "2001",
         "ALBAREDO D'ADIGE",
         "VERONA",
         "89.0",
         "Mangia gatti"
        ],
        [
         "99",
         "1971",
         "ALBETTONE",
         "VICENZA",
         "74.0",
         "Mangia gatti"
        ],
        [
         "682",
         "1981",
         "ALBETTONE",
         "VICENZA",
         "137.0",
         "Mangia gatti"
        ],
        [
         "1265",
         "1991",
         "ALBETTONE",
         "VICENZA",
         "138.0",
         "Mangia gatti"
        ],
        [
         "1848",
         "2001",
         "ALBETTONE",
         "VICENZA",
         "26.0",
         "Mangia gatti"
        ],
        [
         "429",
         "1971",
         "ALBIGNASEGO",
         "PADOVA",
         "148.0",
         "Ciao a tutti"
        ],
        [
         "1012",
         "1981",
         "ALBIGNASEGO",
         "PADOVA",
         "312.0",
         "Ciao a tutti"
        ],
        [
         "1595",
         "1991",
         "ALBIGNASEGO",
         "PADOVA",
         "364.0",
         "Ciao a tutti"
        ],
        [
         "2179",
         "2001",
         "ALBIGNASEGO",
         "PADOVA",
         "340.0",
         "Ciao a tutti"
        ],
        [
         "221",
         "1971",
         "ALLEGHE",
         "BELLUNO",
         "245.0",
         "Ciao a tutti"
        ],
        [
         "804",
         "1981",
         "ALLEGHE",
         "BELLUNO",
         "549.0",
         "Ciao a tutti"
        ],
        [
         "1387",
         "1991",
         "ALLEGHE",
         "BELLUNO",
         "742.0",
         "Ciao a tutti"
        ],
        [
         "1970",
         "2001",
         "ALLEGHE",
         "BELLUNO",
         "925.0",
         "Ciao a tutti"
        ],
        [
         "100",
         "1971",
         "ALONTE",
         "VICENZA",
         "17.0",
         "Mangia gatti"
        ],
        [
         "683",
         "1981",
         "ALONTE",
         "VICENZA",
         "49.0",
         "Mangia gatti"
        ],
        [
         "1266",
         "1991",
         "ALONTE",
         "VICENZA",
         "74.0",
         "Mangia gatti"
        ],
        [
         "1849",
         "2001",
         "ALONTE",
         "VICENZA",
         "74.0",
         "Mangia gatti"
        ],
        [
         "101",
         "1971",
         "ALTAVILLA VICENTINA",
         "VICENZA",
         "109.0",
         "Mangia gatti"
        ],
        [
         "684",
         "1981",
         "ALTAVILLA VICENTINA",
         "VICENZA",
         "300.0",
         "Mangia gatti"
        ]
       ],
       "shape": {
        "columns": 5,
        "rows": 2330
       }
      },
      "text/html": [
       "<div>\n",
       "<style scoped>\n",
       "    .dataframe tbody tr th:only-of-type {\n",
       "        vertical-align: middle;\n",
       "    }\n",
       "\n",
       "    .dataframe tbody tr th {\n",
       "        vertical-align: top;\n",
       "    }\n",
       "\n",
       "    .dataframe thead th {\n",
       "        text-align: right;\n",
       "    }\n",
       "</style>\n",
       "<table border=\"1\" class=\"dataframe\">\n",
       "  <thead>\n",
       "    <tr style=\"text-align: right;\">\n",
       "      <th></th>\n",
       "      <th>Anno</th>\n",
       "      <th>Comune</th>\n",
       "      <th>Provincia</th>\n",
       "      <th>Numero alloggi</th>\n",
       "      <th>Test</th>\n",
       "    </tr>\n",
       "  </thead>\n",
       "  <tbody>\n",
       "    <tr>\n",
       "      <th>427</th>\n",
       "      <td>1971</td>\n",
       "      <td>ABANO TERME</td>\n",
       "      <td>PADOVA</td>\n",
       "      <td>86.0</td>\n",
       "      <td>Ciao a tutti</td>\n",
       "    </tr>\n",
       "    <tr>\n",
       "      <th>1010</th>\n",
       "      <td>1981</td>\n",
       "      <td>ABANO TERME</td>\n",
       "      <td>PADOVA</td>\n",
       "      <td>538.0</td>\n",
       "      <td>Ciao a tutti</td>\n",
       "    </tr>\n",
       "    <tr>\n",
       "      <th>1593</th>\n",
       "      <td>1991</td>\n",
       "      <td>ABANO TERME</td>\n",
       "      <td>PADOVA</td>\n",
       "      <td>503.0</td>\n",
       "      <td>Ciao a tutti</td>\n",
       "    </tr>\n",
       "    <tr>\n",
       "      <th>2177</th>\n",
       "      <td>2001</td>\n",
       "      <td>ABANO TERME</td>\n",
       "      <td>PADOVA</td>\n",
       "      <td>510.0</td>\n",
       "      <td>Ciao a tutti</td>\n",
       "    </tr>\n",
       "    <tr>\n",
       "      <th>532</th>\n",
       "      <td>1971</td>\n",
       "      <td>ADRIA</td>\n",
       "      <td>ROVIGO</td>\n",
       "      <td>243.0</td>\n",
       "      <td>Ciao a tutti</td>\n",
       "    </tr>\n",
       "    <tr>\n",
       "      <th>...</th>\n",
       "      <td>...</td>\n",
       "      <td>...</td>\n",
       "      <td>...</td>\n",
       "      <td>...</td>\n",
       "      <td>...</td>\n",
       "    </tr>\n",
       "    <tr>\n",
       "      <th>1966</th>\n",
       "      <td>2001</td>\n",
       "      <td>ZOVENCEDO</td>\n",
       "      <td>VICENZA</td>\n",
       "      <td>124.0</td>\n",
       "      <td>Mangia gatti</td>\n",
       "    </tr>\n",
       "    <tr>\n",
       "      <th>218</th>\n",
       "      <td>1971</td>\n",
       "      <td>ZUGLIANO</td>\n",
       "      <td>VICENZA</td>\n",
       "      <td>17.0</td>\n",
       "      <td>Mangia gatti</td>\n",
       "    </tr>\n",
       "    <tr>\n",
       "      <th>801</th>\n",
       "      <td>1981</td>\n",
       "      <td>ZUGLIANO</td>\n",
       "      <td>VICENZA</td>\n",
       "      <td>139.0</td>\n",
       "      <td>Mangia gatti</td>\n",
       "    </tr>\n",
       "    <tr>\n",
       "      <th>1384</th>\n",
       "      <td>1991</td>\n",
       "      <td>ZUGLIANO</td>\n",
       "      <td>VICENZA</td>\n",
       "      <td>168.0</td>\n",
       "      <td>Mangia gatti</td>\n",
       "    </tr>\n",
       "    <tr>\n",
       "      <th>1967</th>\n",
       "      <td>2001</td>\n",
       "      <td>ZUGLIANO</td>\n",
       "      <td>VICENZA</td>\n",
       "      <td>188.0</td>\n",
       "      <td>Mangia gatti</td>\n",
       "    </tr>\n",
       "  </tbody>\n",
       "</table>\n",
       "<p>2330 rows × 5 columns</p>\n",
       "</div>"
      ],
      "text/plain": [
       "      Anno       Comune Provincia  Numero alloggi          Test\n",
       "427   1971  ABANO TERME    PADOVA            86.0  Ciao a tutti\n",
       "1010  1981  ABANO TERME    PADOVA           538.0  Ciao a tutti\n",
       "1593  1991  ABANO TERME    PADOVA           503.0  Ciao a tutti\n",
       "2177  2001  ABANO TERME    PADOVA           510.0  Ciao a tutti\n",
       "532   1971        ADRIA    ROVIGO           243.0  Ciao a tutti\n",
       "...    ...          ...       ...             ...           ...\n",
       "1966  2001    ZOVENCEDO   VICENZA           124.0  Mangia gatti\n",
       "218   1971     ZUGLIANO   VICENZA            17.0  Mangia gatti\n",
       "801   1981     ZUGLIANO   VICENZA           139.0  Mangia gatti\n",
       "1384  1991     ZUGLIANO   VICENZA           168.0  Mangia gatti\n",
       "1967  2001     ZUGLIANO   VICENZA           188.0  Mangia gatti\n",
       "\n",
       "[2330 rows x 5 columns]"
      ]
     },
     "execution_count": 12,
     "metadata": {},
     "output_type": "execute_result"
    }
   ],
   "source": [
    "mangia_gatti=['VICENZA', 'VERONA']\n",
    "ciau = ['PADOVA', 'ROVIGO', 'TREVISO', 'BELLUNO']\n",
    "df_new.loc[df_new['Provincia'].isin(mangia_gatti), 'Test'] = 'Mangia gatti'\n",
    "df_new.loc[df_new['Provincia'].isin(ciau), 'Test'] = 'Ciao a tutti'\n",
    "df_new"
   ]
  },
  {
   "cell_type": "code",
   "execution_count": 13,
   "id": "832ea4c7",
   "metadata": {},
   "outputs": [],
   "source": [
    "import sqlite3"
   ]
  },
  {
   "cell_type": "code",
   "execution_count": 14,
   "id": "136a4c01",
   "metadata": {},
   "outputs": [],
   "source": [
    "db_dir = os.path.join(cur_dir, 'database') # creazione del path per il database\n",
    "db_path = os.path.join(db_dir, 'veneto_case.db') # creazione del path per il database"
   ]
  },
  {
   "cell_type": "code",
   "execution_count": 15,
   "id": "b1137946",
   "metadata": {},
   "outputs": [],
   "source": [
    "conn = sqlite3.connect(db_path) # connessione al database\n",
    "cursor= conn.cursor() # creazione del cursore"
   ]
  },
  {
   "cell_type": "code",
   "execution_count": 16,
   "id": "8a6f3e8e",
   "metadata": {},
   "outputs": [
    {
     "data": {
      "application/vnd.microsoft.datawrangler.viewer.v0+json": {
       "columns": [
        {
         "name": "index",
         "rawType": "int64",
         "type": "integer"
        },
        {
         "name": "Anno",
         "rawType": "int64",
         "type": "integer"
        },
        {
         "name": "Comune",
         "rawType": "object",
         "type": "string"
        },
        {
         "name": "Provincia",
         "rawType": "object",
         "type": "string"
        },
        {
         "name": "NumeroAlloggi",
         "rawType": "float64",
         "type": "float"
        },
        {
         "name": "Test",
         "rawType": "object",
         "type": "unknown"
        }
       ],
       "ref": "b227931c-aafd-4a08-ba96-1c5593b6d370",
       "rows": [
        [
         "427",
         "1971",
         "ABANO TERME",
         "PADOVA",
         "86.0",
         "Ciao a tutti"
        ],
        [
         "1010",
         "1981",
         "ABANO TERME",
         "PADOVA",
         "538.0",
         "Ciao a tutti"
        ],
        [
         "1593",
         "1991",
         "ABANO TERME",
         "PADOVA",
         "503.0",
         "Ciao a tutti"
        ],
        [
         "2177",
         "2001",
         "ABANO TERME",
         "PADOVA",
         "510.0",
         "Ciao a tutti"
        ],
        [
         "532",
         "1971",
         "ADRIA",
         "ROVIGO",
         "243.0",
         "Ciao a tutti"
        ],
        [
         "1115",
         "1981",
         "ADRIA",
         "ROVIGO",
         "837.0",
         "Ciao a tutti"
        ],
        [
         "1698",
         "1991",
         "ADRIA",
         "ROVIGO",
         "699.0",
         "Ciao a tutti"
        ],
        [
         "2281",
         "2001",
         "ADRIA",
         "ROVIGO",
         "1072.0",
         "Ciao a tutti"
        ],
        [
         "0",
         "1971",
         "AFFI",
         "VERONA",
         "137.0",
         "Mangia gatti"
        ],
        [
         "583",
         "1981",
         "AFFI",
         "VERONA",
         "117.66666666666667",
         "Mangia gatti"
        ],
        [
         "1166",
         "1991",
         "AFFI",
         "VERONA",
         "98.33333333333334",
         "Mangia gatti"
        ],
        [
         "1749",
         "2001",
         "AFFI",
         "VERONA",
         "79.0",
         "Mangia gatti"
        ],
        [
         "428",
         "1971",
         "AGNA",
         "PADOVA",
         "51.0",
         "Ciao a tutti"
        ],
        [
         "1011",
         "1981",
         "AGNA",
         "PADOVA",
         "71.0",
         "Ciao a tutti"
        ],
        [
         "1594",
         "1991",
         "AGNA",
         "PADOVA",
         "77.0",
         "Ciao a tutti"
        ],
        [
         "2178",
         "2001",
         "AGNA",
         "PADOVA",
         "196.0",
         "Ciao a tutti"
        ],
        [
         "219",
         "1971",
         "AGORDO",
         "BELLUNO",
         "228.0",
         "Ciao a tutti"
        ],
        [
         "802",
         "1981",
         "AGORDO",
         "BELLUNO",
         "506.0",
         "Ciao a tutti"
        ],
        [
         "1385",
         "1991",
         "AGORDO",
         "BELLUNO",
         "481.0",
         "Ciao a tutti"
        ],
        [
         "1968",
         "2001",
         "AGORDO",
         "BELLUNO",
         "692.0",
         "Ciao a tutti"
        ],
        [
         "98",
         "1971",
         "AGUGLIARO",
         "VICENZA",
         "33.0",
         "Mangia gatti"
        ],
        [
         "681",
         "1981",
         "AGUGLIARO",
         "VICENZA",
         "63.0",
         "Mangia gatti"
        ],
        [
         "1264",
         "1991",
         "AGUGLIARO",
         "VICENZA",
         "92.0",
         "Mangia gatti"
        ],
        [
         "1847",
         "2001",
         "AGUGLIARO",
         "VICENZA",
         "48.0",
         "Mangia gatti"
        ],
        [
         "220",
         "1971",
         "ALANO DI PIAVE",
         "BELLUNO",
         "299.0",
         "Ciao a tutti"
        ],
        [
         "803",
         "1981",
         "ALANO DI PIAVE",
         "BELLUNO",
         "399.0",
         "Ciao a tutti"
        ],
        [
         "1386",
         "1991",
         "ALANO DI PIAVE",
         "BELLUNO",
         "464.0",
         "Ciao a tutti"
        ],
        [
         "1969",
         "2001",
         "ALANO DI PIAVE",
         "BELLUNO",
         "382.0",
         "Ciao a tutti"
        ],
        [
         "1",
         "1971",
         "ALBAREDO D'ADIGE",
         "VERONA",
         "121.0",
         "Mangia gatti"
        ],
        [
         "584",
         "1981",
         "ALBAREDO D'ADIGE",
         "VERONA",
         "110.33333333333333",
         "Mangia gatti"
        ],
        [
         "1167",
         "1991",
         "ALBAREDO D'ADIGE",
         "VERONA",
         "99.66666666666667",
         "Mangia gatti"
        ],
        [
         "1750",
         "2001",
         "ALBAREDO D'ADIGE",
         "VERONA",
         "89.0",
         "Mangia gatti"
        ],
        [
         "99",
         "1971",
         "ALBETTONE",
         "VICENZA",
         "74.0",
         "Mangia gatti"
        ],
        [
         "682",
         "1981",
         "ALBETTONE",
         "VICENZA",
         "137.0",
         "Mangia gatti"
        ],
        [
         "1265",
         "1991",
         "ALBETTONE",
         "VICENZA",
         "138.0",
         "Mangia gatti"
        ],
        [
         "1848",
         "2001",
         "ALBETTONE",
         "VICENZA",
         "26.0",
         "Mangia gatti"
        ],
        [
         "429",
         "1971",
         "ALBIGNASEGO",
         "PADOVA",
         "148.0",
         "Ciao a tutti"
        ],
        [
         "1012",
         "1981",
         "ALBIGNASEGO",
         "PADOVA",
         "312.0",
         "Ciao a tutti"
        ],
        [
         "1595",
         "1991",
         "ALBIGNASEGO",
         "PADOVA",
         "364.0",
         "Ciao a tutti"
        ],
        [
         "2179",
         "2001",
         "ALBIGNASEGO",
         "PADOVA",
         "340.0",
         "Ciao a tutti"
        ],
        [
         "221",
         "1971",
         "ALLEGHE",
         "BELLUNO",
         "245.0",
         "Ciao a tutti"
        ],
        [
         "804",
         "1981",
         "ALLEGHE",
         "BELLUNO",
         "549.0",
         "Ciao a tutti"
        ],
        [
         "1387",
         "1991",
         "ALLEGHE",
         "BELLUNO",
         "742.0",
         "Ciao a tutti"
        ],
        [
         "1970",
         "2001",
         "ALLEGHE",
         "BELLUNO",
         "925.0",
         "Ciao a tutti"
        ],
        [
         "100",
         "1971",
         "ALONTE",
         "VICENZA",
         "17.0",
         "Mangia gatti"
        ],
        [
         "683",
         "1981",
         "ALONTE",
         "VICENZA",
         "49.0",
         "Mangia gatti"
        ],
        [
         "1266",
         "1991",
         "ALONTE",
         "VICENZA",
         "74.0",
         "Mangia gatti"
        ],
        [
         "1849",
         "2001",
         "ALONTE",
         "VICENZA",
         "74.0",
         "Mangia gatti"
        ],
        [
         "101",
         "1971",
         "ALTAVILLA VICENTINA",
         "VICENZA",
         "109.0",
         "Mangia gatti"
        ],
        [
         "684",
         "1981",
         "ALTAVILLA VICENTINA",
         "VICENZA",
         "300.0",
         "Mangia gatti"
        ]
       ],
       "shape": {
        "columns": 5,
        "rows": 2330
       }
      },
      "text/html": [
       "<div>\n",
       "<style scoped>\n",
       "    .dataframe tbody tr th:only-of-type {\n",
       "        vertical-align: middle;\n",
       "    }\n",
       "\n",
       "    .dataframe tbody tr th {\n",
       "        vertical-align: top;\n",
       "    }\n",
       "\n",
       "    .dataframe thead th {\n",
       "        text-align: right;\n",
       "    }\n",
       "</style>\n",
       "<table border=\"1\" class=\"dataframe\">\n",
       "  <thead>\n",
       "    <tr style=\"text-align: right;\">\n",
       "      <th></th>\n",
       "      <th>Anno</th>\n",
       "      <th>Comune</th>\n",
       "      <th>Provincia</th>\n",
       "      <th>NumeroAlloggi</th>\n",
       "      <th>Test</th>\n",
       "    </tr>\n",
       "  </thead>\n",
       "  <tbody>\n",
       "    <tr>\n",
       "      <th>427</th>\n",
       "      <td>1971</td>\n",
       "      <td>ABANO TERME</td>\n",
       "      <td>PADOVA</td>\n",
       "      <td>86.0</td>\n",
       "      <td>Ciao a tutti</td>\n",
       "    </tr>\n",
       "    <tr>\n",
       "      <th>1010</th>\n",
       "      <td>1981</td>\n",
       "      <td>ABANO TERME</td>\n",
       "      <td>PADOVA</td>\n",
       "      <td>538.0</td>\n",
       "      <td>Ciao a tutti</td>\n",
       "    </tr>\n",
       "    <tr>\n",
       "      <th>1593</th>\n",
       "      <td>1991</td>\n",
       "      <td>ABANO TERME</td>\n",
       "      <td>PADOVA</td>\n",
       "      <td>503.0</td>\n",
       "      <td>Ciao a tutti</td>\n",
       "    </tr>\n",
       "    <tr>\n",
       "      <th>2177</th>\n",
       "      <td>2001</td>\n",
       "      <td>ABANO TERME</td>\n",
       "      <td>PADOVA</td>\n",
       "      <td>510.0</td>\n",
       "      <td>Ciao a tutti</td>\n",
       "    </tr>\n",
       "    <tr>\n",
       "      <th>532</th>\n",
       "      <td>1971</td>\n",
       "      <td>ADRIA</td>\n",
       "      <td>ROVIGO</td>\n",
       "      <td>243.0</td>\n",
       "      <td>Ciao a tutti</td>\n",
       "    </tr>\n",
       "    <tr>\n",
       "      <th>...</th>\n",
       "      <td>...</td>\n",
       "      <td>...</td>\n",
       "      <td>...</td>\n",
       "      <td>...</td>\n",
       "      <td>...</td>\n",
       "    </tr>\n",
       "    <tr>\n",
       "      <th>1966</th>\n",
       "      <td>2001</td>\n",
       "      <td>ZOVENCEDO</td>\n",
       "      <td>VICENZA</td>\n",
       "      <td>124.0</td>\n",
       "      <td>Mangia gatti</td>\n",
       "    </tr>\n",
       "    <tr>\n",
       "      <th>218</th>\n",
       "      <td>1971</td>\n",
       "      <td>ZUGLIANO</td>\n",
       "      <td>VICENZA</td>\n",
       "      <td>17.0</td>\n",
       "      <td>Mangia gatti</td>\n",
       "    </tr>\n",
       "    <tr>\n",
       "      <th>801</th>\n",
       "      <td>1981</td>\n",
       "      <td>ZUGLIANO</td>\n",
       "      <td>VICENZA</td>\n",
       "      <td>139.0</td>\n",
       "      <td>Mangia gatti</td>\n",
       "    </tr>\n",
       "    <tr>\n",
       "      <th>1384</th>\n",
       "      <td>1991</td>\n",
       "      <td>ZUGLIANO</td>\n",
       "      <td>VICENZA</td>\n",
       "      <td>168.0</td>\n",
       "      <td>Mangia gatti</td>\n",
       "    </tr>\n",
       "    <tr>\n",
       "      <th>1967</th>\n",
       "      <td>2001</td>\n",
       "      <td>ZUGLIANO</td>\n",
       "      <td>VICENZA</td>\n",
       "      <td>188.0</td>\n",
       "      <td>Mangia gatti</td>\n",
       "    </tr>\n",
       "  </tbody>\n",
       "</table>\n",
       "<p>2330 rows × 5 columns</p>\n",
       "</div>"
      ],
      "text/plain": [
       "      Anno       Comune Provincia  NumeroAlloggi          Test\n",
       "427   1971  ABANO TERME    PADOVA           86.0  Ciao a tutti\n",
       "1010  1981  ABANO TERME    PADOVA          538.0  Ciao a tutti\n",
       "1593  1991  ABANO TERME    PADOVA          503.0  Ciao a tutti\n",
       "2177  2001  ABANO TERME    PADOVA          510.0  Ciao a tutti\n",
       "532   1971        ADRIA    ROVIGO          243.0  Ciao a tutti\n",
       "...    ...          ...       ...            ...           ...\n",
       "1966  2001    ZOVENCEDO   VICENZA          124.0  Mangia gatti\n",
       "218   1971     ZUGLIANO   VICENZA           17.0  Mangia gatti\n",
       "801   1981     ZUGLIANO   VICENZA          139.0  Mangia gatti\n",
       "1384  1991     ZUGLIANO   VICENZA          168.0  Mangia gatti\n",
       "1967  2001     ZUGLIANO   VICENZA          188.0  Mangia gatti\n",
       "\n",
       "[2330 rows x 5 columns]"
      ]
     },
     "execution_count": 16,
     "metadata": {},
     "output_type": "execute_result"
    }
   ],
   "source": [
    "#creazione tabella dal df\n",
    "df_new = df_new.rename(columns={'Numero alloggi':'NumeroAlloggi'})  # Sostituzione del nome della colonna\n",
    "#df_new.columns = df_new.columns.str.replace(' ', '_')  # Sostituzione degli spazi con underscore\n",
    "df_new.to_sql('veneto_case', conn, if_exists='replace')\n",
    "df_new"
   ]
  },
  {
   "cell_type": "code",
   "execution_count": 17,
   "id": "aab95e40",
   "metadata": {},
   "outputs": [],
   "source": [
    "conn.close()  # chiusura della connessione al database"
   ]
  },
  {
   "cell_type": "code",
   "execution_count": 18,
   "id": "b7e1bf9a",
   "metadata": {},
   "outputs": [],
   "source": [
    "#esempio grafico\n",
    "import plotly.express as px"
   ]
  },
  {
   "cell_type": "code",
   "execution_count": 22,
   "id": "a01d18b0",
   "metadata": {},
   "outputs": [
    {
     "data": {
      "application/vnd.plotly.v1+json": {
       "config": {
        "plotlyServerURL": "https://plot.ly"
       },
       "data": [
        {
         "hovertemplate": "Provincia=BELLUNO<br>Anno=%{x}<br>NumeroAlloggi=%{y}<extra></extra>",
         "legendgroup": "BELLUNO",
         "line": {
          "color": "#636efa",
          "dash": "solid"
         },
         "marker": {
          "symbol": "circle"
         },
         "mode": "lines",
         "name": "BELLUNO",
         "orientation": "v",
         "showlegend": true,
         "type": "scatter",
         "x": {
          "bdata": "swe9B8cH0Qc=",
          "dtype": "i2"
         },
         "xaxis": "x",
         "y": {
          "bdata": "AAAAAIAJ00AAAAAA4BTjQAAAAADg0+ZAAAAAAGB+50A=",
          "dtype": "f8"
         },
         "yaxis": "y"
        },
        {
         "hovertemplate": "Provincia=CITTA' METROPOLITANA DI VENEZIA<br>Anno=%{x}<br>NumeroAlloggi=%{y}<extra></extra>",
         "legendgroup": "CITTA' METROPOLITANA DI VENEZIA",
         "line": {
          "color": "#EF553B",
          "dash": "solid"
         },
         "marker": {
          "symbol": "circle"
         },
         "mode": "lines",
         "name": "CITTA' METROPOLITANA DI VENEZIA",
         "orientation": "v",
         "showlegend": true,
         "type": "scatter",
         "x": {
          "bdata": "swe9B8cH0Qc=",
          "dtype": "i2"
         },
         "xaxis": "x",
         "y": {
          "bdata": "AAAAAAC34UAAAAAAgALxQAAAAAAAF/VAAAAAABCX9kA=",
          "dtype": "f8"
         },
         "yaxis": "y"
        },
        {
         "hovertemplate": "Provincia=PADOVA<br>Anno=%{x}<br>NumeroAlloggi=%{y}<extra></extra>",
         "legendgroup": "PADOVA",
         "line": {
          "color": "#00cc96",
          "dash": "solid"
         },
         "marker": {
          "symbol": "circle"
         },
         "mode": "lines",
         "name": "PADOVA",
         "orientation": "v",
         "showlegend": true,
         "type": "scatter",
         "x": {
          "bdata": "swe9B8cH0Qc=",
          "dtype": "i2"
         },
         "xaxis": "x",
         "y": {
          "bdata": "AAAAAIC6yUAAAAAAQJ7YQAAAAABAIdpAAAAAAACa20A=",
          "dtype": "f8"
         },
         "yaxis": "y"
        },
        {
         "hovertemplate": "Provincia=ROVIGO<br>Anno=%{x}<br>NumeroAlloggi=%{y}<extra></extra>",
         "legendgroup": "ROVIGO",
         "line": {
          "color": "#ab63fa",
          "dash": "solid"
         },
         "marker": {
          "symbol": "circle"
         },
         "mode": "lines",
         "name": "ROVIGO",
         "orientation": "v",
         "showlegend": true,
         "type": "scatter",
         "x": {
          "bdata": "swe9B8cH0Qc=",
          "dtype": "i2"
         },
         "xaxis": "x",
         "y": {
          "bdata": "AAAAAADbt0AAAAAAAKjHQAAAAAAAY85AAAAAAIAj0EA=",
          "dtype": "f8"
         },
         "yaxis": "y"
        },
        {
         "hovertemplate": "Provincia=TREVISO<br>Anno=%{x}<br>NumeroAlloggi=%{y}<extra></extra>",
         "legendgroup": "TREVISO",
         "line": {
          "color": "#FFA15A",
          "dash": "solid"
         },
         "marker": {
          "symbol": "circle"
         },
         "mode": "lines",
         "name": "TREVISO",
         "orientation": "v",
         "showlegend": true,
         "type": "scatter",
         "x": {
          "bdata": "swe9B8cH0Qc=",
          "dtype": "i2"
         },
         "xaxis": "x",
         "y": {
          "bdata": "AAAAAAD4yEAAAAAAgNPZQAAAAABAgNxAAAAAACAn4EA=",
          "dtype": "f8"
         },
         "yaxis": "y"
        },
        {
         "hovertemplate": "Provincia=VERONA<br>Anno=%{x}<br>NumeroAlloggi=%{y}<extra></extra>",
         "legendgroup": "VERONA",
         "line": {
          "color": "#19d3f3",
          "dash": "solid"
         },
         "marker": {
          "symbol": "circle"
         },
         "mode": "lines",
         "name": "VERONA",
         "orientation": "v",
         "showlegend": true,
         "type": "scatter",
         "x": {
          "bdata": "swe9B8cH0Qc=",
          "dtype": "i2"
         },
         "xaxis": "x",
         "y": {
          "bdata": "AAAAAGC+5UBVVVVVVU/nQKuqqqpK4OhAAAAAAEBx6kA=",
          "dtype": "f8"
         },
         "yaxis": "y"
        },
        {
         "hovertemplate": "Provincia=VICENZA<br>Anno=%{x}<br>NumeroAlloggi=%{y}<extra></extra>",
         "legendgroup": "VICENZA",
         "line": {
          "color": "#FF6692",
          "dash": "solid"
         },
         "marker": {
          "symbol": "circle"
         },
         "mode": "lines",
         "name": "VICENZA",
         "orientation": "v",
         "showlegend": true,
         "type": "scatter",
         "x": {
          "bdata": "swe9B8cH0Qc=",
          "dtype": "i2"
         },
         "xaxis": "x",
         "y": {
          "bdata": "AAAAAEDL0UAAAAAAQKjlQAAAAACgcuhAAAAAAOAc7EA=",
          "dtype": "f8"
         },
         "yaxis": "y"
        }
       ],
       "layout": {
        "legend": {
         "title": {
          "text": "Provincia"
         },
         "tracegroupgap": 0
        },
        "template": {
         "data": {
          "bar": [
           {
            "error_x": {
             "color": "#2a3f5f"
            },
            "error_y": {
             "color": "#2a3f5f"
            },
            "marker": {
             "line": {
              "color": "#E5ECF6",
              "width": 0.5
             },
             "pattern": {
              "fillmode": "overlay",
              "size": 10,
              "solidity": 0.2
             }
            },
            "type": "bar"
           }
          ],
          "barpolar": [
           {
            "marker": {
             "line": {
              "color": "#E5ECF6",
              "width": 0.5
             },
             "pattern": {
              "fillmode": "overlay",
              "size": 10,
              "solidity": 0.2
             }
            },
            "type": "barpolar"
           }
          ],
          "carpet": [
           {
            "aaxis": {
             "endlinecolor": "#2a3f5f",
             "gridcolor": "white",
             "linecolor": "white",
             "minorgridcolor": "white",
             "startlinecolor": "#2a3f5f"
            },
            "baxis": {
             "endlinecolor": "#2a3f5f",
             "gridcolor": "white",
             "linecolor": "white",
             "minorgridcolor": "white",
             "startlinecolor": "#2a3f5f"
            },
            "type": "carpet"
           }
          ],
          "choropleth": [
           {
            "colorbar": {
             "outlinewidth": 0,
             "ticks": ""
            },
            "type": "choropleth"
           }
          ],
          "contour": [
           {
            "colorbar": {
             "outlinewidth": 0,
             "ticks": ""
            },
            "colorscale": [
             [
              0,
              "#0d0887"
             ],
             [
              0.1111111111111111,
              "#46039f"
             ],
             [
              0.2222222222222222,
              "#7201a8"
             ],
             [
              0.3333333333333333,
              "#9c179e"
             ],
             [
              0.4444444444444444,
              "#bd3786"
             ],
             [
              0.5555555555555556,
              "#d8576b"
             ],
             [
              0.6666666666666666,
              "#ed7953"
             ],
             [
              0.7777777777777778,
              "#fb9f3a"
             ],
             [
              0.8888888888888888,
              "#fdca26"
             ],
             [
              1,
              "#f0f921"
             ]
            ],
            "type": "contour"
           }
          ],
          "contourcarpet": [
           {
            "colorbar": {
             "outlinewidth": 0,
             "ticks": ""
            },
            "type": "contourcarpet"
           }
          ],
          "heatmap": [
           {
            "colorbar": {
             "outlinewidth": 0,
             "ticks": ""
            },
            "colorscale": [
             [
              0,
              "#0d0887"
             ],
             [
              0.1111111111111111,
              "#46039f"
             ],
             [
              0.2222222222222222,
              "#7201a8"
             ],
             [
              0.3333333333333333,
              "#9c179e"
             ],
             [
              0.4444444444444444,
              "#bd3786"
             ],
             [
              0.5555555555555556,
              "#d8576b"
             ],
             [
              0.6666666666666666,
              "#ed7953"
             ],
             [
              0.7777777777777778,
              "#fb9f3a"
             ],
             [
              0.8888888888888888,
              "#fdca26"
             ],
             [
              1,
              "#f0f921"
             ]
            ],
            "type": "heatmap"
           }
          ],
          "histogram": [
           {
            "marker": {
             "pattern": {
              "fillmode": "overlay",
              "size": 10,
              "solidity": 0.2
             }
            },
            "type": "histogram"
           }
          ],
          "histogram2d": [
           {
            "colorbar": {
             "outlinewidth": 0,
             "ticks": ""
            },
            "colorscale": [
             [
              0,
              "#0d0887"
             ],
             [
              0.1111111111111111,
              "#46039f"
             ],
             [
              0.2222222222222222,
              "#7201a8"
             ],
             [
              0.3333333333333333,
              "#9c179e"
             ],
             [
              0.4444444444444444,
              "#bd3786"
             ],
             [
              0.5555555555555556,
              "#d8576b"
             ],
             [
              0.6666666666666666,
              "#ed7953"
             ],
             [
              0.7777777777777778,
              "#fb9f3a"
             ],
             [
              0.8888888888888888,
              "#fdca26"
             ],
             [
              1,
              "#f0f921"
             ]
            ],
            "type": "histogram2d"
           }
          ],
          "histogram2dcontour": [
           {
            "colorbar": {
             "outlinewidth": 0,
             "ticks": ""
            },
            "colorscale": [
             [
              0,
              "#0d0887"
             ],
             [
              0.1111111111111111,
              "#46039f"
             ],
             [
              0.2222222222222222,
              "#7201a8"
             ],
             [
              0.3333333333333333,
              "#9c179e"
             ],
             [
              0.4444444444444444,
              "#bd3786"
             ],
             [
              0.5555555555555556,
              "#d8576b"
             ],
             [
              0.6666666666666666,
              "#ed7953"
             ],
             [
              0.7777777777777778,
              "#fb9f3a"
             ],
             [
              0.8888888888888888,
              "#fdca26"
             ],
             [
              1,
              "#f0f921"
             ]
            ],
            "type": "histogram2dcontour"
           }
          ],
          "mesh3d": [
           {
            "colorbar": {
             "outlinewidth": 0,
             "ticks": ""
            },
            "type": "mesh3d"
           }
          ],
          "parcoords": [
           {
            "line": {
             "colorbar": {
              "outlinewidth": 0,
              "ticks": ""
             }
            },
            "type": "parcoords"
           }
          ],
          "pie": [
           {
            "automargin": true,
            "type": "pie"
           }
          ],
          "scatter": [
           {
            "fillpattern": {
             "fillmode": "overlay",
             "size": 10,
             "solidity": 0.2
            },
            "type": "scatter"
           }
          ],
          "scatter3d": [
           {
            "line": {
             "colorbar": {
              "outlinewidth": 0,
              "ticks": ""
             }
            },
            "marker": {
             "colorbar": {
              "outlinewidth": 0,
              "ticks": ""
             }
            },
            "type": "scatter3d"
           }
          ],
          "scattercarpet": [
           {
            "marker": {
             "colorbar": {
              "outlinewidth": 0,
              "ticks": ""
             }
            },
            "type": "scattercarpet"
           }
          ],
          "scattergeo": [
           {
            "marker": {
             "colorbar": {
              "outlinewidth": 0,
              "ticks": ""
             }
            },
            "type": "scattergeo"
           }
          ],
          "scattergl": [
           {
            "marker": {
             "colorbar": {
              "outlinewidth": 0,
              "ticks": ""
             }
            },
            "type": "scattergl"
           }
          ],
          "scattermap": [
           {
            "marker": {
             "colorbar": {
              "outlinewidth": 0,
              "ticks": ""
             }
            },
            "type": "scattermap"
           }
          ],
          "scattermapbox": [
           {
            "marker": {
             "colorbar": {
              "outlinewidth": 0,
              "ticks": ""
             }
            },
            "type": "scattermapbox"
           }
          ],
          "scatterpolar": [
           {
            "marker": {
             "colorbar": {
              "outlinewidth": 0,
              "ticks": ""
             }
            },
            "type": "scatterpolar"
           }
          ],
          "scatterpolargl": [
           {
            "marker": {
             "colorbar": {
              "outlinewidth": 0,
              "ticks": ""
             }
            },
            "type": "scatterpolargl"
           }
          ],
          "scatterternary": [
           {
            "marker": {
             "colorbar": {
              "outlinewidth": 0,
              "ticks": ""
             }
            },
            "type": "scatterternary"
           }
          ],
          "surface": [
           {
            "colorbar": {
             "outlinewidth": 0,
             "ticks": ""
            },
            "colorscale": [
             [
              0,
              "#0d0887"
             ],
             [
              0.1111111111111111,
              "#46039f"
             ],
             [
              0.2222222222222222,
              "#7201a8"
             ],
             [
              0.3333333333333333,
              "#9c179e"
             ],
             [
              0.4444444444444444,
              "#bd3786"
             ],
             [
              0.5555555555555556,
              "#d8576b"
             ],
             [
              0.6666666666666666,
              "#ed7953"
             ],
             [
              0.7777777777777778,
              "#fb9f3a"
             ],
             [
              0.8888888888888888,
              "#fdca26"
             ],
             [
              1,
              "#f0f921"
             ]
            ],
            "type": "surface"
           }
          ],
          "table": [
           {
            "cells": {
             "fill": {
              "color": "#EBF0F8"
             },
             "line": {
              "color": "white"
             }
            },
            "header": {
             "fill": {
              "color": "#C8D4E3"
             },
             "line": {
              "color": "white"
             }
            },
            "type": "table"
           }
          ]
         },
         "layout": {
          "annotationdefaults": {
           "arrowcolor": "#2a3f5f",
           "arrowhead": 0,
           "arrowwidth": 1
          },
          "autotypenumbers": "strict",
          "coloraxis": {
           "colorbar": {
            "outlinewidth": 0,
            "ticks": ""
           }
          },
          "colorscale": {
           "diverging": [
            [
             0,
             "#8e0152"
            ],
            [
             0.1,
             "#c51b7d"
            ],
            [
             0.2,
             "#de77ae"
            ],
            [
             0.3,
             "#f1b6da"
            ],
            [
             0.4,
             "#fde0ef"
            ],
            [
             0.5,
             "#f7f7f7"
            ],
            [
             0.6,
             "#e6f5d0"
            ],
            [
             0.7,
             "#b8e186"
            ],
            [
             0.8,
             "#7fbc41"
            ],
            [
             0.9,
             "#4d9221"
            ],
            [
             1,
             "#276419"
            ]
           ],
           "sequential": [
            [
             0,
             "#0d0887"
            ],
            [
             0.1111111111111111,
             "#46039f"
            ],
            [
             0.2222222222222222,
             "#7201a8"
            ],
            [
             0.3333333333333333,
             "#9c179e"
            ],
            [
             0.4444444444444444,
             "#bd3786"
            ],
            [
             0.5555555555555556,
             "#d8576b"
            ],
            [
             0.6666666666666666,
             "#ed7953"
            ],
            [
             0.7777777777777778,
             "#fb9f3a"
            ],
            [
             0.8888888888888888,
             "#fdca26"
            ],
            [
             1,
             "#f0f921"
            ]
           ],
           "sequentialminus": [
            [
             0,
             "#0d0887"
            ],
            [
             0.1111111111111111,
             "#46039f"
            ],
            [
             0.2222222222222222,
             "#7201a8"
            ],
            [
             0.3333333333333333,
             "#9c179e"
            ],
            [
             0.4444444444444444,
             "#bd3786"
            ],
            [
             0.5555555555555556,
             "#d8576b"
            ],
            [
             0.6666666666666666,
             "#ed7953"
            ],
            [
             0.7777777777777778,
             "#fb9f3a"
            ],
            [
             0.8888888888888888,
             "#fdca26"
            ],
            [
             1,
             "#f0f921"
            ]
           ]
          },
          "colorway": [
           "#636efa",
           "#EF553B",
           "#00cc96",
           "#ab63fa",
           "#FFA15A",
           "#19d3f3",
           "#FF6692",
           "#B6E880",
           "#FF97FF",
           "#FECB52"
          ],
          "font": {
           "color": "#2a3f5f"
          },
          "geo": {
           "bgcolor": "white",
           "lakecolor": "white",
           "landcolor": "#E5ECF6",
           "showlakes": true,
           "showland": true,
           "subunitcolor": "white"
          },
          "hoverlabel": {
           "align": "left"
          },
          "hovermode": "closest",
          "mapbox": {
           "style": "light"
          },
          "paper_bgcolor": "white",
          "plot_bgcolor": "#E5ECF6",
          "polar": {
           "angularaxis": {
            "gridcolor": "white",
            "linecolor": "white",
            "ticks": ""
           },
           "bgcolor": "#E5ECF6",
           "radialaxis": {
            "gridcolor": "white",
            "linecolor": "white",
            "ticks": ""
           }
          },
          "scene": {
           "xaxis": {
            "backgroundcolor": "#E5ECF6",
            "gridcolor": "white",
            "gridwidth": 2,
            "linecolor": "white",
            "showbackground": true,
            "ticks": "",
            "zerolinecolor": "white"
           },
           "yaxis": {
            "backgroundcolor": "#E5ECF6",
            "gridcolor": "white",
            "gridwidth": 2,
            "linecolor": "white",
            "showbackground": true,
            "ticks": "",
            "zerolinecolor": "white"
           },
           "zaxis": {
            "backgroundcolor": "#E5ECF6",
            "gridcolor": "white",
            "gridwidth": 2,
            "linecolor": "white",
            "showbackground": true,
            "ticks": "",
            "zerolinecolor": "white"
           }
          },
          "shapedefaults": {
           "line": {
            "color": "#2a3f5f"
           }
          },
          "ternary": {
           "aaxis": {
            "gridcolor": "white",
            "linecolor": "white",
            "ticks": ""
           },
           "baxis": {
            "gridcolor": "white",
            "linecolor": "white",
            "ticks": ""
           },
           "bgcolor": "#E5ECF6",
           "caxis": {
            "gridcolor": "white",
            "linecolor": "white",
            "ticks": ""
           }
          },
          "title": {
           "x": 0.05
          },
          "xaxis": {
           "automargin": true,
           "gridcolor": "white",
           "linecolor": "white",
           "ticks": "",
           "title": {
            "standoff": 15
           },
           "zerolinecolor": "white",
           "zerolinewidth": 2
          },
          "yaxis": {
           "automargin": true,
           "gridcolor": "white",
           "linecolor": "white",
           "ticks": "",
           "title": {
            "standoff": 15
           },
           "zerolinecolor": "white",
           "zerolinewidth": 2
          }
         }
        },
        "title": {
         "text": "Numero di alloggi non occupati in Veneto per provincia"
        },
        "xaxis": {
         "anchor": "y",
         "domain": [
          0,
          1
         ],
         "title": {
          "text": "Anno"
         }
        },
        "yaxis": {
         "anchor": "x",
         "domain": [
          0,
          1
         ],
         "title": {
          "text": "NumeroAlloggi"
         }
        }
       }
      }
     },
     "metadata": {},
     "output_type": "display_data"
    }
   ],
   "source": [
    "df_new_group=df_new.groupby(['Anno', 'Provincia'])['NumeroAlloggi'].sum().reset_index()\n",
    "fig= px.line(df_new_group, x='Anno', y='NumeroAlloggi', color='Provincia', title='Numero di alloggi non occupati in Veneto per provincia')\n",
    "fig.show()"
   ]
  },
  {
   "cell_type": "code",
   "execution_count": 25,
   "id": "65ff35c6",
   "metadata": {},
   "outputs": [
    {
     "data": {
      "application/vnd.plotly.v1+json": {
       "config": {
        "plotlyServerURL": "https://plot.ly"
       },
       "data": [
        {
         "alignmentgroup": "True",
         "hovertemplate": "Provincia=BELLUNO<br>Anno=%{x}<br>NumeroAlloggi=%{y}<extra></extra>",
         "legendgroup": "BELLUNO",
         "marker": {
          "color": "#636efa",
          "pattern": {
           "shape": ""
          }
         },
         "name": "BELLUNO",
         "offsetgroup": "BELLUNO",
         "orientation": "v",
         "showlegend": true,
         "textposition": "auto",
         "type": "bar",
         "x": {
          "bdata": "swe9B8cH0Qc=",
          "dtype": "i2"
         },
         "xaxis": "x",
         "y": {
          "bdata": "AAAAAIAJ00AAAAAA4BTjQAAAAADg0+ZAAAAAAGB+50A=",
          "dtype": "f8"
         },
         "yaxis": "y"
        },
        {
         "alignmentgroup": "True",
         "hovertemplate": "Provincia=CITTA' METROPOLITANA DI VENEZIA<br>Anno=%{x}<br>NumeroAlloggi=%{y}<extra></extra>",
         "legendgroup": "CITTA' METROPOLITANA DI VENEZIA",
         "marker": {
          "color": "#EF553B",
          "pattern": {
           "shape": ""
          }
         },
         "name": "CITTA' METROPOLITANA DI VENEZIA",
         "offsetgroup": "CITTA' METROPOLITANA DI VENEZIA",
         "orientation": "v",
         "showlegend": true,
         "textposition": "auto",
         "type": "bar",
         "x": {
          "bdata": "swe9B8cH0Qc=",
          "dtype": "i2"
         },
         "xaxis": "x",
         "y": {
          "bdata": "AAAAAAC34UAAAAAAgALxQAAAAAAAF/VAAAAAABCX9kA=",
          "dtype": "f8"
         },
         "yaxis": "y"
        },
        {
         "alignmentgroup": "True",
         "hovertemplate": "Provincia=PADOVA<br>Anno=%{x}<br>NumeroAlloggi=%{y}<extra></extra>",
         "legendgroup": "PADOVA",
         "marker": {
          "color": "#00cc96",
          "pattern": {
           "shape": ""
          }
         },
         "name": "PADOVA",
         "offsetgroup": "PADOVA",
         "orientation": "v",
         "showlegend": true,
         "textposition": "auto",
         "type": "bar",
         "x": {
          "bdata": "swe9B8cH0Qc=",
          "dtype": "i2"
         },
         "xaxis": "x",
         "y": {
          "bdata": "AAAAAIC6yUAAAAAAQJ7YQAAAAABAIdpAAAAAAACa20A=",
          "dtype": "f8"
         },
         "yaxis": "y"
        },
        {
         "alignmentgroup": "True",
         "hovertemplate": "Provincia=ROVIGO<br>Anno=%{x}<br>NumeroAlloggi=%{y}<extra></extra>",
         "legendgroup": "ROVIGO",
         "marker": {
          "color": "#ab63fa",
          "pattern": {
           "shape": ""
          }
         },
         "name": "ROVIGO",
         "offsetgroup": "ROVIGO",
         "orientation": "v",
         "showlegend": true,
         "textposition": "auto",
         "type": "bar",
         "x": {
          "bdata": "swe9B8cH0Qc=",
          "dtype": "i2"
         },
         "xaxis": "x",
         "y": {
          "bdata": "AAAAAADbt0AAAAAAAKjHQAAAAAAAY85AAAAAAIAj0EA=",
          "dtype": "f8"
         },
         "yaxis": "y"
        },
        {
         "alignmentgroup": "True",
         "hovertemplate": "Provincia=TREVISO<br>Anno=%{x}<br>NumeroAlloggi=%{y}<extra></extra>",
         "legendgroup": "TREVISO",
         "marker": {
          "color": "#FFA15A",
          "pattern": {
           "shape": ""
          }
         },
         "name": "TREVISO",
         "offsetgroup": "TREVISO",
         "orientation": "v",
         "showlegend": true,
         "textposition": "auto",
         "type": "bar",
         "x": {
          "bdata": "swe9B8cH0Qc=",
          "dtype": "i2"
         },
         "xaxis": "x",
         "y": {
          "bdata": "AAAAAAD4yEAAAAAAgNPZQAAAAABAgNxAAAAAACAn4EA=",
          "dtype": "f8"
         },
         "yaxis": "y"
        },
        {
         "alignmentgroup": "True",
         "hovertemplate": "Provincia=VERONA<br>Anno=%{x}<br>NumeroAlloggi=%{y}<extra></extra>",
         "legendgroup": "VERONA",
         "marker": {
          "color": "#19d3f3",
          "pattern": {
           "shape": ""
          }
         },
         "name": "VERONA",
         "offsetgroup": "VERONA",
         "orientation": "v",
         "showlegend": true,
         "textposition": "auto",
         "type": "bar",
         "x": {
          "bdata": "swe9B8cH0Qc=",
          "dtype": "i2"
         },
         "xaxis": "x",
         "y": {
          "bdata": "AAAAAGC+5UBVVVVVVU/nQKuqqqpK4OhAAAAAAEBx6kA=",
          "dtype": "f8"
         },
         "yaxis": "y"
        },
        {
         "alignmentgroup": "True",
         "hovertemplate": "Provincia=VICENZA<br>Anno=%{x}<br>NumeroAlloggi=%{y}<extra></extra>",
         "legendgroup": "VICENZA",
         "marker": {
          "color": "#FF6692",
          "pattern": {
           "shape": ""
          }
         },
         "name": "VICENZA",
         "offsetgroup": "VICENZA",
         "orientation": "v",
         "showlegend": true,
         "textposition": "auto",
         "type": "bar",
         "x": {
          "bdata": "swe9B8cH0Qc=",
          "dtype": "i2"
         },
         "xaxis": "x",
         "y": {
          "bdata": "AAAAAEDL0UAAAAAAQKjlQAAAAACgcuhAAAAAAOAc7EA=",
          "dtype": "f8"
         },
         "yaxis": "y"
        }
       ],
       "layout": {
        "barmode": "group",
        "legend": {
         "title": {
          "text": "Provincia"
         },
         "tracegroupgap": 0
        },
        "template": {
         "data": {
          "bar": [
           {
            "error_x": {
             "color": "#2a3f5f"
            },
            "error_y": {
             "color": "#2a3f5f"
            },
            "marker": {
             "line": {
              "color": "#E5ECF6",
              "width": 0.5
             },
             "pattern": {
              "fillmode": "overlay",
              "size": 10,
              "solidity": 0.2
             }
            },
            "type": "bar"
           }
          ],
          "barpolar": [
           {
            "marker": {
             "line": {
              "color": "#E5ECF6",
              "width": 0.5
             },
             "pattern": {
              "fillmode": "overlay",
              "size": 10,
              "solidity": 0.2
             }
            },
            "type": "barpolar"
           }
          ],
          "carpet": [
           {
            "aaxis": {
             "endlinecolor": "#2a3f5f",
             "gridcolor": "white",
             "linecolor": "white",
             "minorgridcolor": "white",
             "startlinecolor": "#2a3f5f"
            },
            "baxis": {
             "endlinecolor": "#2a3f5f",
             "gridcolor": "white",
             "linecolor": "white",
             "minorgridcolor": "white",
             "startlinecolor": "#2a3f5f"
            },
            "type": "carpet"
           }
          ],
          "choropleth": [
           {
            "colorbar": {
             "outlinewidth": 0,
             "ticks": ""
            },
            "type": "choropleth"
           }
          ],
          "contour": [
           {
            "colorbar": {
             "outlinewidth": 0,
             "ticks": ""
            },
            "colorscale": [
             [
              0,
              "#0d0887"
             ],
             [
              0.1111111111111111,
              "#46039f"
             ],
             [
              0.2222222222222222,
              "#7201a8"
             ],
             [
              0.3333333333333333,
              "#9c179e"
             ],
             [
              0.4444444444444444,
              "#bd3786"
             ],
             [
              0.5555555555555556,
              "#d8576b"
             ],
             [
              0.6666666666666666,
              "#ed7953"
             ],
             [
              0.7777777777777778,
              "#fb9f3a"
             ],
             [
              0.8888888888888888,
              "#fdca26"
             ],
             [
              1,
              "#f0f921"
             ]
            ],
            "type": "contour"
           }
          ],
          "contourcarpet": [
           {
            "colorbar": {
             "outlinewidth": 0,
             "ticks": ""
            },
            "type": "contourcarpet"
           }
          ],
          "heatmap": [
           {
            "colorbar": {
             "outlinewidth": 0,
             "ticks": ""
            },
            "colorscale": [
             [
              0,
              "#0d0887"
             ],
             [
              0.1111111111111111,
              "#46039f"
             ],
             [
              0.2222222222222222,
              "#7201a8"
             ],
             [
              0.3333333333333333,
              "#9c179e"
             ],
             [
              0.4444444444444444,
              "#bd3786"
             ],
             [
              0.5555555555555556,
              "#d8576b"
             ],
             [
              0.6666666666666666,
              "#ed7953"
             ],
             [
              0.7777777777777778,
              "#fb9f3a"
             ],
             [
              0.8888888888888888,
              "#fdca26"
             ],
             [
              1,
              "#f0f921"
             ]
            ],
            "type": "heatmap"
           }
          ],
          "histogram": [
           {
            "marker": {
             "pattern": {
              "fillmode": "overlay",
              "size": 10,
              "solidity": 0.2
             }
            },
            "type": "histogram"
           }
          ],
          "histogram2d": [
           {
            "colorbar": {
             "outlinewidth": 0,
             "ticks": ""
            },
            "colorscale": [
             [
              0,
              "#0d0887"
             ],
             [
              0.1111111111111111,
              "#46039f"
             ],
             [
              0.2222222222222222,
              "#7201a8"
             ],
             [
              0.3333333333333333,
              "#9c179e"
             ],
             [
              0.4444444444444444,
              "#bd3786"
             ],
             [
              0.5555555555555556,
              "#d8576b"
             ],
             [
              0.6666666666666666,
              "#ed7953"
             ],
             [
              0.7777777777777778,
              "#fb9f3a"
             ],
             [
              0.8888888888888888,
              "#fdca26"
             ],
             [
              1,
              "#f0f921"
             ]
            ],
            "type": "histogram2d"
           }
          ],
          "histogram2dcontour": [
           {
            "colorbar": {
             "outlinewidth": 0,
             "ticks": ""
            },
            "colorscale": [
             [
              0,
              "#0d0887"
             ],
             [
              0.1111111111111111,
              "#46039f"
             ],
             [
              0.2222222222222222,
              "#7201a8"
             ],
             [
              0.3333333333333333,
              "#9c179e"
             ],
             [
              0.4444444444444444,
              "#bd3786"
             ],
             [
              0.5555555555555556,
              "#d8576b"
             ],
             [
              0.6666666666666666,
              "#ed7953"
             ],
             [
              0.7777777777777778,
              "#fb9f3a"
             ],
             [
              0.8888888888888888,
              "#fdca26"
             ],
             [
              1,
              "#f0f921"
             ]
            ],
            "type": "histogram2dcontour"
           }
          ],
          "mesh3d": [
           {
            "colorbar": {
             "outlinewidth": 0,
             "ticks": ""
            },
            "type": "mesh3d"
           }
          ],
          "parcoords": [
           {
            "line": {
             "colorbar": {
              "outlinewidth": 0,
              "ticks": ""
             }
            },
            "type": "parcoords"
           }
          ],
          "pie": [
           {
            "automargin": true,
            "type": "pie"
           }
          ],
          "scatter": [
           {
            "fillpattern": {
             "fillmode": "overlay",
             "size": 10,
             "solidity": 0.2
            },
            "type": "scatter"
           }
          ],
          "scatter3d": [
           {
            "line": {
             "colorbar": {
              "outlinewidth": 0,
              "ticks": ""
             }
            },
            "marker": {
             "colorbar": {
              "outlinewidth": 0,
              "ticks": ""
             }
            },
            "type": "scatter3d"
           }
          ],
          "scattercarpet": [
           {
            "marker": {
             "colorbar": {
              "outlinewidth": 0,
              "ticks": ""
             }
            },
            "type": "scattercarpet"
           }
          ],
          "scattergeo": [
           {
            "marker": {
             "colorbar": {
              "outlinewidth": 0,
              "ticks": ""
             }
            },
            "type": "scattergeo"
           }
          ],
          "scattergl": [
           {
            "marker": {
             "colorbar": {
              "outlinewidth": 0,
              "ticks": ""
             }
            },
            "type": "scattergl"
           }
          ],
          "scattermap": [
           {
            "marker": {
             "colorbar": {
              "outlinewidth": 0,
              "ticks": ""
             }
            },
            "type": "scattermap"
           }
          ],
          "scattermapbox": [
           {
            "marker": {
             "colorbar": {
              "outlinewidth": 0,
              "ticks": ""
             }
            },
            "type": "scattermapbox"
           }
          ],
          "scatterpolar": [
           {
            "marker": {
             "colorbar": {
              "outlinewidth": 0,
              "ticks": ""
             }
            },
            "type": "scatterpolar"
           }
          ],
          "scatterpolargl": [
           {
            "marker": {
             "colorbar": {
              "outlinewidth": 0,
              "ticks": ""
             }
            },
            "type": "scatterpolargl"
           }
          ],
          "scatterternary": [
           {
            "marker": {
             "colorbar": {
              "outlinewidth": 0,
              "ticks": ""
             }
            },
            "type": "scatterternary"
           }
          ],
          "surface": [
           {
            "colorbar": {
             "outlinewidth": 0,
             "ticks": ""
            },
            "colorscale": [
             [
              0,
              "#0d0887"
             ],
             [
              0.1111111111111111,
              "#46039f"
             ],
             [
              0.2222222222222222,
              "#7201a8"
             ],
             [
              0.3333333333333333,
              "#9c179e"
             ],
             [
              0.4444444444444444,
              "#bd3786"
             ],
             [
              0.5555555555555556,
              "#d8576b"
             ],
             [
              0.6666666666666666,
              "#ed7953"
             ],
             [
              0.7777777777777778,
              "#fb9f3a"
             ],
             [
              0.8888888888888888,
              "#fdca26"
             ],
             [
              1,
              "#f0f921"
             ]
            ],
            "type": "surface"
           }
          ],
          "table": [
           {
            "cells": {
             "fill": {
              "color": "#EBF0F8"
             },
             "line": {
              "color": "white"
             }
            },
            "header": {
             "fill": {
              "color": "#C8D4E3"
             },
             "line": {
              "color": "white"
             }
            },
            "type": "table"
           }
          ]
         },
         "layout": {
          "annotationdefaults": {
           "arrowcolor": "#2a3f5f",
           "arrowhead": 0,
           "arrowwidth": 1
          },
          "autotypenumbers": "strict",
          "coloraxis": {
           "colorbar": {
            "outlinewidth": 0,
            "ticks": ""
           }
          },
          "colorscale": {
           "diverging": [
            [
             0,
             "#8e0152"
            ],
            [
             0.1,
             "#c51b7d"
            ],
            [
             0.2,
             "#de77ae"
            ],
            [
             0.3,
             "#f1b6da"
            ],
            [
             0.4,
             "#fde0ef"
            ],
            [
             0.5,
             "#f7f7f7"
            ],
            [
             0.6,
             "#e6f5d0"
            ],
            [
             0.7,
             "#b8e186"
            ],
            [
             0.8,
             "#7fbc41"
            ],
            [
             0.9,
             "#4d9221"
            ],
            [
             1,
             "#276419"
            ]
           ],
           "sequential": [
            [
             0,
             "#0d0887"
            ],
            [
             0.1111111111111111,
             "#46039f"
            ],
            [
             0.2222222222222222,
             "#7201a8"
            ],
            [
             0.3333333333333333,
             "#9c179e"
            ],
            [
             0.4444444444444444,
             "#bd3786"
            ],
            [
             0.5555555555555556,
             "#d8576b"
            ],
            [
             0.6666666666666666,
             "#ed7953"
            ],
            [
             0.7777777777777778,
             "#fb9f3a"
            ],
            [
             0.8888888888888888,
             "#fdca26"
            ],
            [
             1,
             "#f0f921"
            ]
           ],
           "sequentialminus": [
            [
             0,
             "#0d0887"
            ],
            [
             0.1111111111111111,
             "#46039f"
            ],
            [
             0.2222222222222222,
             "#7201a8"
            ],
            [
             0.3333333333333333,
             "#9c179e"
            ],
            [
             0.4444444444444444,
             "#bd3786"
            ],
            [
             0.5555555555555556,
             "#d8576b"
            ],
            [
             0.6666666666666666,
             "#ed7953"
            ],
            [
             0.7777777777777778,
             "#fb9f3a"
            ],
            [
             0.8888888888888888,
             "#fdca26"
            ],
            [
             1,
             "#f0f921"
            ]
           ]
          },
          "colorway": [
           "#636efa",
           "#EF553B",
           "#00cc96",
           "#ab63fa",
           "#FFA15A",
           "#19d3f3",
           "#FF6692",
           "#B6E880",
           "#FF97FF",
           "#FECB52"
          ],
          "font": {
           "color": "#2a3f5f"
          },
          "geo": {
           "bgcolor": "white",
           "lakecolor": "white",
           "landcolor": "#E5ECF6",
           "showlakes": true,
           "showland": true,
           "subunitcolor": "white"
          },
          "hoverlabel": {
           "align": "left"
          },
          "hovermode": "closest",
          "mapbox": {
           "style": "light"
          },
          "paper_bgcolor": "white",
          "plot_bgcolor": "#E5ECF6",
          "polar": {
           "angularaxis": {
            "gridcolor": "white",
            "linecolor": "white",
            "ticks": ""
           },
           "bgcolor": "#E5ECF6",
           "radialaxis": {
            "gridcolor": "white",
            "linecolor": "white",
            "ticks": ""
           }
          },
          "scene": {
           "xaxis": {
            "backgroundcolor": "#E5ECF6",
            "gridcolor": "white",
            "gridwidth": 2,
            "linecolor": "white",
            "showbackground": true,
            "ticks": "",
            "zerolinecolor": "white"
           },
           "yaxis": {
            "backgroundcolor": "#E5ECF6",
            "gridcolor": "white",
            "gridwidth": 2,
            "linecolor": "white",
            "showbackground": true,
            "ticks": "",
            "zerolinecolor": "white"
           },
           "zaxis": {
            "backgroundcolor": "#E5ECF6",
            "gridcolor": "white",
            "gridwidth": 2,
            "linecolor": "white",
            "showbackground": true,
            "ticks": "",
            "zerolinecolor": "white"
           }
          },
          "shapedefaults": {
           "line": {
            "color": "#2a3f5f"
           }
          },
          "ternary": {
           "aaxis": {
            "gridcolor": "white",
            "linecolor": "white",
            "ticks": ""
           },
           "baxis": {
            "gridcolor": "white",
            "linecolor": "white",
            "ticks": ""
           },
           "bgcolor": "#E5ECF6",
           "caxis": {
            "gridcolor": "white",
            "linecolor": "white",
            "ticks": ""
           }
          },
          "title": {
           "x": 0.05
          },
          "xaxis": {
           "automargin": true,
           "gridcolor": "white",
           "linecolor": "white",
           "ticks": "",
           "title": {
            "standoff": 15
           },
           "zerolinecolor": "white",
           "zerolinewidth": 2
          },
          "yaxis": {
           "automargin": true,
           "gridcolor": "white",
           "linecolor": "white",
           "ticks": "",
           "title": {
            "standoff": 15
           },
           "zerolinecolor": "white",
           "zerolinewidth": 2
          }
         }
        },
        "title": {
         "text": "Numero di alloggi non occupati in Veneto per provincia"
        },
        "xaxis": {
         "anchor": "y",
         "domain": [
          0,
          1
         ],
         "title": {
          "text": "Anno"
         }
        },
        "yaxis": {
         "anchor": "x",
         "domain": [
          0,
          1
         ],
         "title": {
          "text": "NumeroAlloggi"
         }
        }
       }
      }
     },
     "metadata": {},
     "output_type": "display_data"
    }
   ],
   "source": [
    "fig2= px.bar(df_new_group, x='Anno', y='NumeroAlloggi', color='Provincia', title='Numero di alloggi non occupati in Veneto per provincia', barmode='group')\n",
    "fig2.show()"
   ]
  },
  {
   "cell_type": "code",
   "execution_count": 24,
   "id": "66ccb474",
   "metadata": {},
   "outputs": [
    {
     "data": {
      "application/vnd.plotly.v1+json": {
       "config": {
        "plotlyServerURL": "https://plot.ly"
       },
       "data": [
        {
         "hovertemplate": "Provincia=BELLUNO<br>Anno=%{x}<br>NumeroAlloggi=%{y}<extra></extra>",
         "legendgroup": "BELLUNO",
         "marker": {
          "color": "#636efa",
          "symbol": "circle"
         },
         "mode": "markers",
         "name": "BELLUNO",
         "orientation": "v",
         "showlegend": true,
         "type": "scatter",
         "x": {
          "bdata": "swe9B8cH0Qc=",
          "dtype": "i2"
         },
         "xaxis": "x",
         "y": {
          "bdata": "AAAAAIAJ00AAAAAA4BTjQAAAAADg0+ZAAAAAAGB+50A=",
          "dtype": "f8"
         },
         "yaxis": "y"
        },
        {
         "hovertemplate": "Provincia=CITTA' METROPOLITANA DI VENEZIA<br>Anno=%{x}<br>NumeroAlloggi=%{y}<extra></extra>",
         "legendgroup": "CITTA' METROPOLITANA DI VENEZIA",
         "marker": {
          "color": "#EF553B",
          "symbol": "circle"
         },
         "mode": "markers",
         "name": "CITTA' METROPOLITANA DI VENEZIA",
         "orientation": "v",
         "showlegend": true,
         "type": "scatter",
         "x": {
          "bdata": "swe9B8cH0Qc=",
          "dtype": "i2"
         },
         "xaxis": "x",
         "y": {
          "bdata": "AAAAAAC34UAAAAAAgALxQAAAAAAAF/VAAAAAABCX9kA=",
          "dtype": "f8"
         },
         "yaxis": "y"
        },
        {
         "hovertemplate": "Provincia=PADOVA<br>Anno=%{x}<br>NumeroAlloggi=%{y}<extra></extra>",
         "legendgroup": "PADOVA",
         "marker": {
          "color": "#00cc96",
          "symbol": "circle"
         },
         "mode": "markers",
         "name": "PADOVA",
         "orientation": "v",
         "showlegend": true,
         "type": "scatter",
         "x": {
          "bdata": "swe9B8cH0Qc=",
          "dtype": "i2"
         },
         "xaxis": "x",
         "y": {
          "bdata": "AAAAAIC6yUAAAAAAQJ7YQAAAAABAIdpAAAAAAACa20A=",
          "dtype": "f8"
         },
         "yaxis": "y"
        },
        {
         "hovertemplate": "Provincia=ROVIGO<br>Anno=%{x}<br>NumeroAlloggi=%{y}<extra></extra>",
         "legendgroup": "ROVIGO",
         "marker": {
          "color": "#ab63fa",
          "symbol": "circle"
         },
         "mode": "markers",
         "name": "ROVIGO",
         "orientation": "v",
         "showlegend": true,
         "type": "scatter",
         "x": {
          "bdata": "swe9B8cH0Qc=",
          "dtype": "i2"
         },
         "xaxis": "x",
         "y": {
          "bdata": "AAAAAADbt0AAAAAAAKjHQAAAAAAAY85AAAAAAIAj0EA=",
          "dtype": "f8"
         },
         "yaxis": "y"
        },
        {
         "hovertemplate": "Provincia=TREVISO<br>Anno=%{x}<br>NumeroAlloggi=%{y}<extra></extra>",
         "legendgroup": "TREVISO",
         "marker": {
          "color": "#FFA15A",
          "symbol": "circle"
         },
         "mode": "markers",
         "name": "TREVISO",
         "orientation": "v",
         "showlegend": true,
         "type": "scatter",
         "x": {
          "bdata": "swe9B8cH0Qc=",
          "dtype": "i2"
         },
         "xaxis": "x",
         "y": {
          "bdata": "AAAAAAD4yEAAAAAAgNPZQAAAAABAgNxAAAAAACAn4EA=",
          "dtype": "f8"
         },
         "yaxis": "y"
        },
        {
         "hovertemplate": "Provincia=VERONA<br>Anno=%{x}<br>NumeroAlloggi=%{y}<extra></extra>",
         "legendgroup": "VERONA",
         "marker": {
          "color": "#19d3f3",
          "symbol": "circle"
         },
         "mode": "markers",
         "name": "VERONA",
         "orientation": "v",
         "showlegend": true,
         "type": "scatter",
         "x": {
          "bdata": "swe9B8cH0Qc=",
          "dtype": "i2"
         },
         "xaxis": "x",
         "y": {
          "bdata": "AAAAAGC+5UBVVVVVVU/nQKuqqqpK4OhAAAAAAEBx6kA=",
          "dtype": "f8"
         },
         "yaxis": "y"
        },
        {
         "hovertemplate": "Provincia=VICENZA<br>Anno=%{x}<br>NumeroAlloggi=%{y}<extra></extra>",
         "legendgroup": "VICENZA",
         "marker": {
          "color": "#FF6692",
          "symbol": "circle"
         },
         "mode": "markers",
         "name": "VICENZA",
         "orientation": "v",
         "showlegend": true,
         "type": "scatter",
         "x": {
          "bdata": "swe9B8cH0Qc=",
          "dtype": "i2"
         },
         "xaxis": "x",
         "y": {
          "bdata": "AAAAAEDL0UAAAAAAQKjlQAAAAACgcuhAAAAAAOAc7EA=",
          "dtype": "f8"
         },
         "yaxis": "y"
        }
       ],
       "layout": {
        "legend": {
         "title": {
          "text": "Provincia"
         },
         "tracegroupgap": 0
        },
        "template": {
         "data": {
          "bar": [
           {
            "error_x": {
             "color": "#2a3f5f"
            },
            "error_y": {
             "color": "#2a3f5f"
            },
            "marker": {
             "line": {
              "color": "#E5ECF6",
              "width": 0.5
             },
             "pattern": {
              "fillmode": "overlay",
              "size": 10,
              "solidity": 0.2
             }
            },
            "type": "bar"
           }
          ],
          "barpolar": [
           {
            "marker": {
             "line": {
              "color": "#E5ECF6",
              "width": 0.5
             },
             "pattern": {
              "fillmode": "overlay",
              "size": 10,
              "solidity": 0.2
             }
            },
            "type": "barpolar"
           }
          ],
          "carpet": [
           {
            "aaxis": {
             "endlinecolor": "#2a3f5f",
             "gridcolor": "white",
             "linecolor": "white",
             "minorgridcolor": "white",
             "startlinecolor": "#2a3f5f"
            },
            "baxis": {
             "endlinecolor": "#2a3f5f",
             "gridcolor": "white",
             "linecolor": "white",
             "minorgridcolor": "white",
             "startlinecolor": "#2a3f5f"
            },
            "type": "carpet"
           }
          ],
          "choropleth": [
           {
            "colorbar": {
             "outlinewidth": 0,
             "ticks": ""
            },
            "type": "choropleth"
           }
          ],
          "contour": [
           {
            "colorbar": {
             "outlinewidth": 0,
             "ticks": ""
            },
            "colorscale": [
             [
              0,
              "#0d0887"
             ],
             [
              0.1111111111111111,
              "#46039f"
             ],
             [
              0.2222222222222222,
              "#7201a8"
             ],
             [
              0.3333333333333333,
              "#9c179e"
             ],
             [
              0.4444444444444444,
              "#bd3786"
             ],
             [
              0.5555555555555556,
              "#d8576b"
             ],
             [
              0.6666666666666666,
              "#ed7953"
             ],
             [
              0.7777777777777778,
              "#fb9f3a"
             ],
             [
              0.8888888888888888,
              "#fdca26"
             ],
             [
              1,
              "#f0f921"
             ]
            ],
            "type": "contour"
           }
          ],
          "contourcarpet": [
           {
            "colorbar": {
             "outlinewidth": 0,
             "ticks": ""
            },
            "type": "contourcarpet"
           }
          ],
          "heatmap": [
           {
            "colorbar": {
             "outlinewidth": 0,
             "ticks": ""
            },
            "colorscale": [
             [
              0,
              "#0d0887"
             ],
             [
              0.1111111111111111,
              "#46039f"
             ],
             [
              0.2222222222222222,
              "#7201a8"
             ],
             [
              0.3333333333333333,
              "#9c179e"
             ],
             [
              0.4444444444444444,
              "#bd3786"
             ],
             [
              0.5555555555555556,
              "#d8576b"
             ],
             [
              0.6666666666666666,
              "#ed7953"
             ],
             [
              0.7777777777777778,
              "#fb9f3a"
             ],
             [
              0.8888888888888888,
              "#fdca26"
             ],
             [
              1,
              "#f0f921"
             ]
            ],
            "type": "heatmap"
           }
          ],
          "histogram": [
           {
            "marker": {
             "pattern": {
              "fillmode": "overlay",
              "size": 10,
              "solidity": 0.2
             }
            },
            "type": "histogram"
           }
          ],
          "histogram2d": [
           {
            "colorbar": {
             "outlinewidth": 0,
             "ticks": ""
            },
            "colorscale": [
             [
              0,
              "#0d0887"
             ],
             [
              0.1111111111111111,
              "#46039f"
             ],
             [
              0.2222222222222222,
              "#7201a8"
             ],
             [
              0.3333333333333333,
              "#9c179e"
             ],
             [
              0.4444444444444444,
              "#bd3786"
             ],
             [
              0.5555555555555556,
              "#d8576b"
             ],
             [
              0.6666666666666666,
              "#ed7953"
             ],
             [
              0.7777777777777778,
              "#fb9f3a"
             ],
             [
              0.8888888888888888,
              "#fdca26"
             ],
             [
              1,
              "#f0f921"
             ]
            ],
            "type": "histogram2d"
           }
          ],
          "histogram2dcontour": [
           {
            "colorbar": {
             "outlinewidth": 0,
             "ticks": ""
            },
            "colorscale": [
             [
              0,
              "#0d0887"
             ],
             [
              0.1111111111111111,
              "#46039f"
             ],
             [
              0.2222222222222222,
              "#7201a8"
             ],
             [
              0.3333333333333333,
              "#9c179e"
             ],
             [
              0.4444444444444444,
              "#bd3786"
             ],
             [
              0.5555555555555556,
              "#d8576b"
             ],
             [
              0.6666666666666666,
              "#ed7953"
             ],
             [
              0.7777777777777778,
              "#fb9f3a"
             ],
             [
              0.8888888888888888,
              "#fdca26"
             ],
             [
              1,
              "#f0f921"
             ]
            ],
            "type": "histogram2dcontour"
           }
          ],
          "mesh3d": [
           {
            "colorbar": {
             "outlinewidth": 0,
             "ticks": ""
            },
            "type": "mesh3d"
           }
          ],
          "parcoords": [
           {
            "line": {
             "colorbar": {
              "outlinewidth": 0,
              "ticks": ""
             }
            },
            "type": "parcoords"
           }
          ],
          "pie": [
           {
            "automargin": true,
            "type": "pie"
           }
          ],
          "scatter": [
           {
            "fillpattern": {
             "fillmode": "overlay",
             "size": 10,
             "solidity": 0.2
            },
            "type": "scatter"
           }
          ],
          "scatter3d": [
           {
            "line": {
             "colorbar": {
              "outlinewidth": 0,
              "ticks": ""
             }
            },
            "marker": {
             "colorbar": {
              "outlinewidth": 0,
              "ticks": ""
             }
            },
            "type": "scatter3d"
           }
          ],
          "scattercarpet": [
           {
            "marker": {
             "colorbar": {
              "outlinewidth": 0,
              "ticks": ""
             }
            },
            "type": "scattercarpet"
           }
          ],
          "scattergeo": [
           {
            "marker": {
             "colorbar": {
              "outlinewidth": 0,
              "ticks": ""
             }
            },
            "type": "scattergeo"
           }
          ],
          "scattergl": [
           {
            "marker": {
             "colorbar": {
              "outlinewidth": 0,
              "ticks": ""
             }
            },
            "type": "scattergl"
           }
          ],
          "scattermap": [
           {
            "marker": {
             "colorbar": {
              "outlinewidth": 0,
              "ticks": ""
             }
            },
            "type": "scattermap"
           }
          ],
          "scattermapbox": [
           {
            "marker": {
             "colorbar": {
              "outlinewidth": 0,
              "ticks": ""
             }
            },
            "type": "scattermapbox"
           }
          ],
          "scatterpolar": [
           {
            "marker": {
             "colorbar": {
              "outlinewidth": 0,
              "ticks": ""
             }
            },
            "type": "scatterpolar"
           }
          ],
          "scatterpolargl": [
           {
            "marker": {
             "colorbar": {
              "outlinewidth": 0,
              "ticks": ""
             }
            },
            "type": "scatterpolargl"
           }
          ],
          "scatterternary": [
           {
            "marker": {
             "colorbar": {
              "outlinewidth": 0,
              "ticks": ""
             }
            },
            "type": "scatterternary"
           }
          ],
          "surface": [
           {
            "colorbar": {
             "outlinewidth": 0,
             "ticks": ""
            },
            "colorscale": [
             [
              0,
              "#0d0887"
             ],
             [
              0.1111111111111111,
              "#46039f"
             ],
             [
              0.2222222222222222,
              "#7201a8"
             ],
             [
              0.3333333333333333,
              "#9c179e"
             ],
             [
              0.4444444444444444,
              "#bd3786"
             ],
             [
              0.5555555555555556,
              "#d8576b"
             ],
             [
              0.6666666666666666,
              "#ed7953"
             ],
             [
              0.7777777777777778,
              "#fb9f3a"
             ],
             [
              0.8888888888888888,
              "#fdca26"
             ],
             [
              1,
              "#f0f921"
             ]
            ],
            "type": "surface"
           }
          ],
          "table": [
           {
            "cells": {
             "fill": {
              "color": "#EBF0F8"
             },
             "line": {
              "color": "white"
             }
            },
            "header": {
             "fill": {
              "color": "#C8D4E3"
             },
             "line": {
              "color": "white"
             }
            },
            "type": "table"
           }
          ]
         },
         "layout": {
          "annotationdefaults": {
           "arrowcolor": "#2a3f5f",
           "arrowhead": 0,
           "arrowwidth": 1
          },
          "autotypenumbers": "strict",
          "coloraxis": {
           "colorbar": {
            "outlinewidth": 0,
            "ticks": ""
           }
          },
          "colorscale": {
           "diverging": [
            [
             0,
             "#8e0152"
            ],
            [
             0.1,
             "#c51b7d"
            ],
            [
             0.2,
             "#de77ae"
            ],
            [
             0.3,
             "#f1b6da"
            ],
            [
             0.4,
             "#fde0ef"
            ],
            [
             0.5,
             "#f7f7f7"
            ],
            [
             0.6,
             "#e6f5d0"
            ],
            [
             0.7,
             "#b8e186"
            ],
            [
             0.8,
             "#7fbc41"
            ],
            [
             0.9,
             "#4d9221"
            ],
            [
             1,
             "#276419"
            ]
           ],
           "sequential": [
            [
             0,
             "#0d0887"
            ],
            [
             0.1111111111111111,
             "#46039f"
            ],
            [
             0.2222222222222222,
             "#7201a8"
            ],
            [
             0.3333333333333333,
             "#9c179e"
            ],
            [
             0.4444444444444444,
             "#bd3786"
            ],
            [
             0.5555555555555556,
             "#d8576b"
            ],
            [
             0.6666666666666666,
             "#ed7953"
            ],
            [
             0.7777777777777778,
             "#fb9f3a"
            ],
            [
             0.8888888888888888,
             "#fdca26"
            ],
            [
             1,
             "#f0f921"
            ]
           ],
           "sequentialminus": [
            [
             0,
             "#0d0887"
            ],
            [
             0.1111111111111111,
             "#46039f"
            ],
            [
             0.2222222222222222,
             "#7201a8"
            ],
            [
             0.3333333333333333,
             "#9c179e"
            ],
            [
             0.4444444444444444,
             "#bd3786"
            ],
            [
             0.5555555555555556,
             "#d8576b"
            ],
            [
             0.6666666666666666,
             "#ed7953"
            ],
            [
             0.7777777777777778,
             "#fb9f3a"
            ],
            [
             0.8888888888888888,
             "#fdca26"
            ],
            [
             1,
             "#f0f921"
            ]
           ]
          },
          "colorway": [
           "#636efa",
           "#EF553B",
           "#00cc96",
           "#ab63fa",
           "#FFA15A",
           "#19d3f3",
           "#FF6692",
           "#B6E880",
           "#FF97FF",
           "#FECB52"
          ],
          "font": {
           "color": "#2a3f5f"
          },
          "geo": {
           "bgcolor": "white",
           "lakecolor": "white",
           "landcolor": "#E5ECF6",
           "showlakes": true,
           "showland": true,
           "subunitcolor": "white"
          },
          "hoverlabel": {
           "align": "left"
          },
          "hovermode": "closest",
          "mapbox": {
           "style": "light"
          },
          "paper_bgcolor": "white",
          "plot_bgcolor": "#E5ECF6",
          "polar": {
           "angularaxis": {
            "gridcolor": "white",
            "linecolor": "white",
            "ticks": ""
           },
           "bgcolor": "#E5ECF6",
           "radialaxis": {
            "gridcolor": "white",
            "linecolor": "white",
            "ticks": ""
           }
          },
          "scene": {
           "xaxis": {
            "backgroundcolor": "#E5ECF6",
            "gridcolor": "white",
            "gridwidth": 2,
            "linecolor": "white",
            "showbackground": true,
            "ticks": "",
            "zerolinecolor": "white"
           },
           "yaxis": {
            "backgroundcolor": "#E5ECF6",
            "gridcolor": "white",
            "gridwidth": 2,
            "linecolor": "white",
            "showbackground": true,
            "ticks": "",
            "zerolinecolor": "white"
           },
           "zaxis": {
            "backgroundcolor": "#E5ECF6",
            "gridcolor": "white",
            "gridwidth": 2,
            "linecolor": "white",
            "showbackground": true,
            "ticks": "",
            "zerolinecolor": "white"
           }
          },
          "shapedefaults": {
           "line": {
            "color": "#2a3f5f"
           }
          },
          "ternary": {
           "aaxis": {
            "gridcolor": "white",
            "linecolor": "white",
            "ticks": ""
           },
           "baxis": {
            "gridcolor": "white",
            "linecolor": "white",
            "ticks": ""
           },
           "bgcolor": "#E5ECF6",
           "caxis": {
            "gridcolor": "white",
            "linecolor": "white",
            "ticks": ""
           }
          },
          "title": {
           "x": 0.05
          },
          "xaxis": {
           "automargin": true,
           "gridcolor": "white",
           "linecolor": "white",
           "ticks": "",
           "title": {
            "standoff": 15
           },
           "zerolinecolor": "white",
           "zerolinewidth": 2
          },
          "yaxis": {
           "automargin": true,
           "gridcolor": "white",
           "linecolor": "white",
           "ticks": "",
           "title": {
            "standoff": 15
           },
           "zerolinecolor": "white",
           "zerolinewidth": 2
          }
         }
        },
        "title": {
         "text": "Numero di alloggi non occupati in Veneto per provincia"
        },
        "xaxis": {
         "anchor": "y",
         "domain": [
          0,
          1
         ],
         "title": {
          "text": "Anno"
         }
        },
        "yaxis": {
         "anchor": "x",
         "domain": [
          0,
          1
         ],
         "title": {
          "text": "NumeroAlloggi"
         }
        }
       }
      }
     },
     "metadata": {},
     "output_type": "display_data"
    }
   ],
   "source": [
    "fig3= px.scatter(df_new_group, x='Anno', y='NumeroAlloggi', color='Provincia', title='Numero di alloggi non occupati in Veneto per provincia')\n",
    "fig3.show()"
   ]
  }
 ],
 "metadata": {
  "kernelspec": {
   "display_name": "venv",
   "language": "python",
   "name": "python3"
  },
  "language_info": {
   "codemirror_mode": {
    "name": "ipython",
    "version": 3
   },
   "file_extension": ".py",
   "mimetype": "text/x-python",
   "name": "python",
   "nbconvert_exporter": "python",
   "pygments_lexer": "ipython3",
   "version": "3.13.1"
  }
 },
 "nbformat": 4,
 "nbformat_minor": 5
}
